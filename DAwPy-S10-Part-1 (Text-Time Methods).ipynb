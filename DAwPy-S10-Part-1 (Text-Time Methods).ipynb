{
 "cells": [
  {
   "cell_type": "markdown",
   "metadata": {},
   "source": [
    "___\n",
    "\n",
    "<p style=\"text-align: center;\"><img src=\"https://docs.google.com/uc?id=1lY0Uj5R04yMY3-ZppPWxqCr5pvBLYPnV\" class=\"img-fluid\" alt=\"CLRSWY\"></p>\n",
    "\n",
    "___"
   ]
  },
  {
   "cell_type": "markdown",
   "metadata": {},
   "source": [
    "<h1><p style=\"text-align: center;\">Pandas Lesson, Session - 10</p><h1>"
   ]
  },
  {
   "cell_type": "markdown",
   "metadata": {},
   "source": [
    "<h1><p style=\"text-align: center;\">Working with Text and Time Data</p><h1>"
   ]
  },
  {
   "cell_type": "markdown",
   "metadata": {},
   "source": [
    "# Working with Text Data\n",
    "\n",
    "## String Methods\n",
    "https://pandas.pydata.org/pandas-docs/stable/user_guide/text.html\n",
    "\n",
    "https://www.w3schools.com/python/python_ref_string.asp"
   ]
  },
  {
   "cell_type": "code",
   "execution_count": 1,
   "metadata": {},
   "outputs": [],
   "source": [
    "import numpy as np\n",
    "import pandas as pd\n",
    "import seaborn as sns"
   ]
  },
  {
   "cell_type": "code",
   "execution_count": 2,
   "metadata": {},
   "outputs": [
    {
     "data": {
      "text/html": [
       "<div>\n",
       "<style scoped>\n",
       "    .dataframe tbody tr th:only-of-type {\n",
       "        vertical-align: middle;\n",
       "    }\n",
       "\n",
       "    .dataframe tbody tr th {\n",
       "        vertical-align: top;\n",
       "    }\n",
       "\n",
       "    .dataframe thead th {\n",
       "        text-align: right;\n",
       "    }\n",
       "</style>\n",
       "<table border=\"1\" class=\"dataframe\">\n",
       "  <thead>\n",
       "    <tr style=\"text-align: right;\">\n",
       "      <th></th>\n",
       "      <th>id</th>\n",
       "      <th>staff</th>\n",
       "      <th>department</th>\n",
       "      <th>job</th>\n",
       "      <th>salary</th>\n",
       "      <th>age</th>\n",
       "    </tr>\n",
       "  </thead>\n",
       "  <tbody>\n",
       "    <tr>\n",
       "      <th>0</th>\n",
       "      <td>M0001</td>\n",
       "      <td>Tom BLUE</td>\n",
       "      <td>HR</td>\n",
       "      <td>manager</td>\n",
       "      <td>\"$150,000\"</td>\n",
       "      <td>52</td>\n",
       "    </tr>\n",
       "    <tr>\n",
       "      <th>1</th>\n",
       "      <td>M0002</td>\n",
       "      <td>JOHN BLACK</td>\n",
       "      <td>IT</td>\n",
       "      <td>manager</td>\n",
       "      <td>\"$180,000\"</td>\n",
       "      <td>48</td>\n",
       "    </tr>\n",
       "    <tr>\n",
       "      <th>2</th>\n",
       "      <td>E0001</td>\n",
       "      <td>Micheal Brown</td>\n",
       "      <td>IT</td>\n",
       "      <td>data scientist</td>\n",
       "      <td>\"$150,000\"</td>\n",
       "      <td>35</td>\n",
       "    </tr>\n",
       "    <tr>\n",
       "      <th>3</th>\n",
       "      <td>E0002</td>\n",
       "      <td>jason walker</td>\n",
       "      <td>HR</td>\n",
       "      <td>recruiter</td>\n",
       "      <td>130000dolar</td>\n",
       "      <td>38</td>\n",
       "    </tr>\n",
       "    <tr>\n",
       "      <th>4</th>\n",
       "      <td>E0003</td>\n",
       "      <td>Alex Green</td>\n",
       "      <td>IT</td>\n",
       "      <td>backend developer</td>\n",
       "      <td>\"$110,000\"</td>\n",
       "      <td>-</td>\n",
       "    </tr>\n",
       "    <tr>\n",
       "      <th>5</th>\n",
       "      <td>E0004</td>\n",
       "      <td>OSCAR SMİTH</td>\n",
       "      <td>IT</td>\n",
       "      <td>frontend developer</td>\n",
       "      <td>\"$120,000\"</td>\n",
       "      <td>32</td>\n",
       "    </tr>\n",
       "    <tr>\n",
       "      <th>6</th>\n",
       "      <td>E0005</td>\n",
       "      <td>Adrian STAR</td>\n",
       "      <td>IT</td>\n",
       "      <td>data scientist</td>\n",
       "      <td>\"$135,000\"</td>\n",
       "      <td>40</td>\n",
       "    </tr>\n",
       "    <tr>\n",
       "      <th>7</th>\n",
       "      <td>E0006</td>\n",
       "      <td>Albert simon</td>\n",
       "      <td>IT</td>\n",
       "      <td>data scientist</td>\n",
       "      <td>125000dolar</td>\n",
       "      <td>35</td>\n",
       "    </tr>\n",
       "  </tbody>\n",
       "</table>\n",
       "</div>"
      ],
      "text/plain": [
       "      id          staff department                 job       salary age\n",
       "0  M0001       Tom BLUE         HR             manager   \"$150,000\"  52\n",
       "1  M0002     JOHN BLACK         IT             manager   \"$180,000\"  48\n",
       "2  E0001  Micheal Brown         IT      data scientist   \"$150,000\"  35\n",
       "3  E0002   jason walker         HR           recruiter  130000dolar  38\n",
       "4  E0003     Alex Green         IT   backend developer   \"$110,000\"   -\n",
       "5  E0004    OSCAR SMİTH         IT  frontend developer   \"$120,000\"  32\n",
       "6  E0005    Adrian STAR         IT      data scientist   \"$135,000\"  40\n",
       "7  E0006   Albert simon         IT      data scientist  125000dolar  35"
      ]
     },
     "execution_count": 2,
     "metadata": {},
     "output_type": "execute_result"
    }
   ],
   "source": [
    "df = pd.read_excel(\"text_exercise.xlsx\")\n",
    "df"
   ]
  },
  {
   "cell_type": "code",
   "execution_count": 3,
   "metadata": {},
   "outputs": [
    {
     "name": "stdout",
     "output_type": "stream",
     "text": [
      "<class 'pandas.core.frame.DataFrame'>\n",
      "RangeIndex: 8 entries, 0 to 7\n",
      "Data columns (total 6 columns):\n",
      " #   Column      Non-Null Count  Dtype \n",
      "---  ------      --------------  ----- \n",
      " 0   id          8 non-null      object\n",
      " 1   staff       8 non-null      object\n",
      " 2   department  8 non-null      object\n",
      " 3   job         8 non-null      object\n",
      " 4   salary      8 non-null      object\n",
      " 5   age         8 non-null      object\n",
      "dtypes: object(6)\n",
      "memory usage: 512.0+ bytes\n"
     ]
    }
   ],
   "source": [
    "df.info()"
   ]
  },
  {
   "cell_type": "markdown",
   "metadata": {},
   "source": [
    "___"
   ]
  },
  {
   "cell_type": "markdown",
   "metadata": {},
   "source": [
    "- **lower()\t\t  =>** Converts a string into lower case\n",
    "- **upper()\t\t  =>** Converts a string into upper case\n",
    "- **capitalize()  =>** Converts the first character to upper case\n",
    "- **title()\t\t  =>** Converts the first character of each word to upper case\n",
    "- **swapcase()    =>** Swaps the case lower/upper"
   ]
  },
  {
   "cell_type": "markdown",
   "metadata": {},
   "source": [
    "___"
   ]
  },
  {
   "cell_type": "code",
   "execution_count": 4,
   "metadata": {},
   "outputs": [
    {
     "data": {
      "text/plain": [
       "0         Tom BLUE\n",
       "1       JOHN BLACK\n",
       "2    Micheal Brown\n",
       "3     jason walker\n",
       "4       Alex Green\n",
       "5      OSCAR SMİTH\n",
       "6      Adrian STAR\n",
       "7     Albert simon\n",
       "Name: staff, dtype: object"
      ]
     },
     "execution_count": 4,
     "metadata": {},
     "output_type": "execute_result"
    }
   ],
   "source": [
    "df.staff"
   ]
  },
  {
   "cell_type": "code",
   "execution_count": 6,
   "metadata": {},
   "outputs": [
    {
     "data": {
      "text/plain": [
       "0         Tom Blue\n",
       "1       John Black\n",
       "2    Micheal Brown\n",
       "3     Jason Walker\n",
       "4       Alex Green\n",
       "5     Oscar Smi̇th\n",
       "6      Adrian Star\n",
       "7     Albert Simon\n",
       "Name: staff, dtype: object"
      ]
     },
     "execution_count": 6,
     "metadata": {},
     "output_type": "execute_result"
    }
   ],
   "source": [
    "df.staff.str.title()"
   ]
  },
  {
   "cell_type": "code",
   "execution_count": 7,
   "metadata": {},
   "outputs": [
    {
     "data": {
      "text/plain": [
       "0         tom blue\n",
       "1       john black\n",
       "2    micheal brown\n",
       "3     jason walker\n",
       "4       alex green\n",
       "5     oscar smi̇th\n",
       "6      adrian star\n",
       "7     albert simon\n",
       "Name: staff, dtype: object"
      ]
     },
     "execution_count": 7,
     "metadata": {},
     "output_type": "execute_result"
    }
   ],
   "source": [
    "df.staff.str.lower()"
   ]
  },
  {
   "cell_type": "code",
   "execution_count": 8,
   "metadata": {},
   "outputs": [
    {
     "data": {
      "text/plain": [
       "0         TOM BLUE\n",
       "1       JOHN BLACK\n",
       "2    MICHEAL BROWN\n",
       "3     JASON WALKER\n",
       "4       ALEX GREEN\n",
       "5      OSCAR SMİTH\n",
       "6      ADRIAN STAR\n",
       "7     ALBERT SIMON\n",
       "Name: staff, dtype: object"
      ]
     },
     "execution_count": 8,
     "metadata": {},
     "output_type": "execute_result"
    }
   ],
   "source": [
    "df.staff.str.upper()"
   ]
  },
  {
   "cell_type": "code",
   "execution_count": 10,
   "metadata": {},
   "outputs": [
    {
     "data": {
      "text/plain": [
       "0         Tom blue\n",
       "1       John black\n",
       "2    Micheal brown\n",
       "3     Jason walker\n",
       "4       Alex green\n",
       "5     Oscar smi̇th\n",
       "6      Adrian star\n",
       "7     Albert simon\n",
       "Name: staff, dtype: object"
      ]
     },
     "execution_count": 10,
     "metadata": {},
     "output_type": "execute_result"
    }
   ],
   "source": [
    "df.staff.str.capitalize()"
   ]
  },
  {
   "cell_type": "code",
   "execution_count": 11,
   "metadata": {},
   "outputs": [
    {
     "data": {
      "text/plain": [
       "0         tOM blue\n",
       "1       john black\n",
       "2    mICHEAL bROWN\n",
       "3     JASON WALKER\n",
       "4       aLEX gREEN\n",
       "5     oscar smi̇th\n",
       "6      aDRIAN star\n",
       "7     aLBERT SIMON\n",
       "Name: staff, dtype: object"
      ]
     },
     "execution_count": 11,
     "metadata": {},
     "output_type": "execute_result"
    }
   ],
   "source": [
    "df.staff.str.swapcase()"
   ]
  },
  {
   "cell_type": "markdown",
   "metadata": {},
   "source": [
    "___"
   ]
  },
  {
   "cell_type": "markdown",
   "metadata": {},
   "source": [
    "- **isalpha()     =>** Returns True if all characters in the string are in the alphabet\n",
    "- **isnumeric()   =>** Returns True if all characters in the string are numeric\n",
    "- **isalnum()     =>** Returns True if all characters in the string are alphanumeric\n",
    "- **endswith()\t=>** Returns true if the string ends with the specified value\n",
    "- **startswith()\t=>** Returns true if the string starts with the specified value\n",
    "- **contains()\t=>** Returns a Boolean value True for each element if the substring contains in the element, else False."
   ]
  },
  {
   "cell_type": "markdown",
   "metadata": {},
   "source": [
    "___"
   ]
  },
  {
   "cell_type": "code",
   "execution_count": 12,
   "metadata": {},
   "outputs": [
    {
     "data": {
      "text/html": [
       "<div>\n",
       "<style scoped>\n",
       "    .dataframe tbody tr th:only-of-type {\n",
       "        vertical-align: middle;\n",
       "    }\n",
       "\n",
       "    .dataframe tbody tr th {\n",
       "        vertical-align: top;\n",
       "    }\n",
       "\n",
       "    .dataframe thead th {\n",
       "        text-align: right;\n",
       "    }\n",
       "</style>\n",
       "<table border=\"1\" class=\"dataframe\">\n",
       "  <thead>\n",
       "    <tr style=\"text-align: right;\">\n",
       "      <th></th>\n",
       "      <th>id</th>\n",
       "      <th>staff</th>\n",
       "      <th>department</th>\n",
       "      <th>job</th>\n",
       "      <th>salary</th>\n",
       "      <th>age</th>\n",
       "    </tr>\n",
       "  </thead>\n",
       "  <tbody>\n",
       "    <tr>\n",
       "      <th>0</th>\n",
       "      <td>M0001</td>\n",
       "      <td>Tom BLUE</td>\n",
       "      <td>HR</td>\n",
       "      <td>manager</td>\n",
       "      <td>\"$150,000\"</td>\n",
       "      <td>52</td>\n",
       "    </tr>\n",
       "    <tr>\n",
       "      <th>1</th>\n",
       "      <td>M0002</td>\n",
       "      <td>JOHN BLACK</td>\n",
       "      <td>IT</td>\n",
       "      <td>manager</td>\n",
       "      <td>\"$180,000\"</td>\n",
       "      <td>48</td>\n",
       "    </tr>\n",
       "    <tr>\n",
       "      <th>2</th>\n",
       "      <td>E0001</td>\n",
       "      <td>Micheal Brown</td>\n",
       "      <td>IT</td>\n",
       "      <td>data scientist</td>\n",
       "      <td>\"$150,000\"</td>\n",
       "      <td>35</td>\n",
       "    </tr>\n",
       "    <tr>\n",
       "      <th>3</th>\n",
       "      <td>E0002</td>\n",
       "      <td>jason walker</td>\n",
       "      <td>HR</td>\n",
       "      <td>recruiter</td>\n",
       "      <td>130000dolar</td>\n",
       "      <td>38</td>\n",
       "    </tr>\n",
       "    <tr>\n",
       "      <th>4</th>\n",
       "      <td>E0003</td>\n",
       "      <td>Alex Green</td>\n",
       "      <td>IT</td>\n",
       "      <td>backend developer</td>\n",
       "      <td>\"$110,000\"</td>\n",
       "      <td>-</td>\n",
       "    </tr>\n",
       "    <tr>\n",
       "      <th>5</th>\n",
       "      <td>E0004</td>\n",
       "      <td>OSCAR SMİTH</td>\n",
       "      <td>IT</td>\n",
       "      <td>frontend developer</td>\n",
       "      <td>\"$120,000\"</td>\n",
       "      <td>32</td>\n",
       "    </tr>\n",
       "    <tr>\n",
       "      <th>6</th>\n",
       "      <td>E0005</td>\n",
       "      <td>Adrian STAR</td>\n",
       "      <td>IT</td>\n",
       "      <td>data scientist</td>\n",
       "      <td>\"$135,000\"</td>\n",
       "      <td>40</td>\n",
       "    </tr>\n",
       "    <tr>\n",
       "      <th>7</th>\n",
       "      <td>E0006</td>\n",
       "      <td>Albert simon</td>\n",
       "      <td>IT</td>\n",
       "      <td>data scientist</td>\n",
       "      <td>125000dolar</td>\n",
       "      <td>35</td>\n",
       "    </tr>\n",
       "  </tbody>\n",
       "</table>\n",
       "</div>"
      ],
      "text/plain": [
       "      id          staff department                 job       salary age\n",
       "0  M0001       Tom BLUE         HR             manager   \"$150,000\"  52\n",
       "1  M0002     JOHN BLACK         IT             manager   \"$180,000\"  48\n",
       "2  E0001  Micheal Brown         IT      data scientist   \"$150,000\"  35\n",
       "3  E0002   jason walker         HR           recruiter  130000dolar  38\n",
       "4  E0003     Alex Green         IT   backend developer   \"$110,000\"   -\n",
       "5  E0004    OSCAR SMİTH         IT  frontend developer   \"$120,000\"  32\n",
       "6  E0005    Adrian STAR         IT      data scientist   \"$135,000\"  40\n",
       "7  E0006   Albert simon         IT      data scientist  125000dolar  35"
      ]
     },
     "execution_count": 12,
     "metadata": {},
     "output_type": "execute_result"
    }
   ],
   "source": [
    "df"
   ]
  },
  {
   "cell_type": "code",
   "execution_count": 14,
   "metadata": {},
   "outputs": [
    {
     "data": {
      "text/plain": [
       "0     True\n",
       "1     True\n",
       "2    False\n",
       "3     True\n",
       "4    False\n",
       "5    False\n",
       "6    False\n",
       "7    False\n",
       "Name: job, dtype: bool"
      ]
     },
     "execution_count": 14,
     "metadata": {},
     "output_type": "execute_result"
    }
   ],
   "source": [
    "df.job.str.isalpha()"
   ]
  },
  {
   "cell_type": "code",
   "execution_count": 15,
   "metadata": {},
   "outputs": [
    {
     "data": {
      "text/plain": [
       "0      NaN\n",
       "1      NaN\n",
       "2      NaN\n",
       "3      NaN\n",
       "4    False\n",
       "5      NaN\n",
       "6      NaN\n",
       "7      NaN\n",
       "Name: age, dtype: object"
      ]
     },
     "execution_count": 15,
     "metadata": {},
     "output_type": "execute_result"
    }
   ],
   "source": [
    "df.age.str.isnumeric()"
   ]
  },
  {
   "cell_type": "code",
   "execution_count": 16,
   "metadata": {},
   "outputs": [
    {
     "data": {
      "text/plain": [
       "0     True\n",
       "1     True\n",
       "2     True\n",
       "3     True\n",
       "4    False\n",
       "5     True\n",
       "6     True\n",
       "7     True\n",
       "Name: age, dtype: bool"
      ]
     },
     "execution_count": 16,
     "metadata": {},
     "output_type": "execute_result"
    }
   ],
   "source": [
    "df.age.astype(\"str\").str.isnumeric()"
   ]
  },
  {
   "cell_type": "code",
   "execution_count": 18,
   "metadata": {},
   "outputs": [
    {
     "data": {
      "text/plain": [
       "0     \"$150,000\"\n",
       "1     \"$180,000\"\n",
       "2     \"$150,000\"\n",
       "3    130000dolar\n",
       "4     \"$110,000\"\n",
       "5     \"$120,000\"\n",
       "6     \"$135,000\"\n",
       "7    125000dolar\n",
       "Name: salary, dtype: object"
      ]
     },
     "execution_count": 18,
     "metadata": {},
     "output_type": "execute_result"
    }
   ],
   "source": [
    "df.salary"
   ]
  },
  {
   "cell_type": "code",
   "execution_count": 19,
   "metadata": {},
   "outputs": [
    {
     "data": {
      "text/plain": [
       "0    False\n",
       "1    False\n",
       "2    False\n",
       "3     True\n",
       "4    False\n",
       "5    False\n",
       "6    False\n",
       "7     True\n",
       "Name: salary, dtype: bool"
      ]
     },
     "execution_count": 19,
     "metadata": {},
     "output_type": "execute_result"
    }
   ],
   "source": [
    "df.salary.str.isalnum()"
   ]
  },
  {
   "cell_type": "code",
   "execution_count": 20,
   "metadata": {},
   "outputs": [
    {
     "data": {
      "text/plain": [
       "0               manager\n",
       "1               manager\n",
       "2        data scientist\n",
       "3             recruiter\n",
       "4     backend developer\n",
       "5    frontend developer\n",
       "6        data scientist\n",
       "7        data scientist\n",
       "Name: job, dtype: object"
      ]
     },
     "execution_count": 20,
     "metadata": {},
     "output_type": "execute_result"
    }
   ],
   "source": [
    "df.job"
   ]
  },
  {
   "cell_type": "code",
   "execution_count": 21,
   "metadata": {},
   "outputs": [
    {
     "data": {
      "text/plain": [
       "0    False\n",
       "1    False\n",
       "2     True\n",
       "3    False\n",
       "4    False\n",
       "5    False\n",
       "6     True\n",
       "7     True\n",
       "Name: job, dtype: bool"
      ]
     },
     "execution_count": 21,
     "metadata": {},
     "output_type": "execute_result"
    }
   ],
   "source": [
    "df.job.str.startswith('data')"
   ]
  },
  {
   "cell_type": "code",
   "execution_count": 22,
   "metadata": {},
   "outputs": [
    {
     "data": {
      "text/html": [
       "<div>\n",
       "<style scoped>\n",
       "    .dataframe tbody tr th:only-of-type {\n",
       "        vertical-align: middle;\n",
       "    }\n",
       "\n",
       "    .dataframe tbody tr th {\n",
       "        vertical-align: top;\n",
       "    }\n",
       "\n",
       "    .dataframe thead th {\n",
       "        text-align: right;\n",
       "    }\n",
       "</style>\n",
       "<table border=\"1\" class=\"dataframe\">\n",
       "  <thead>\n",
       "    <tr style=\"text-align: right;\">\n",
       "      <th></th>\n",
       "      <th>id</th>\n",
       "      <th>staff</th>\n",
       "      <th>department</th>\n",
       "      <th>job</th>\n",
       "      <th>salary</th>\n",
       "      <th>age</th>\n",
       "    </tr>\n",
       "  </thead>\n",
       "  <tbody>\n",
       "    <tr>\n",
       "      <th>2</th>\n",
       "      <td>E0001</td>\n",
       "      <td>Micheal Brown</td>\n",
       "      <td>IT</td>\n",
       "      <td>data scientist</td>\n",
       "      <td>\"$150,000\"</td>\n",
       "      <td>35</td>\n",
       "    </tr>\n",
       "    <tr>\n",
       "      <th>6</th>\n",
       "      <td>E0005</td>\n",
       "      <td>Adrian STAR</td>\n",
       "      <td>IT</td>\n",
       "      <td>data scientist</td>\n",
       "      <td>\"$135,000\"</td>\n",
       "      <td>40</td>\n",
       "    </tr>\n",
       "    <tr>\n",
       "      <th>7</th>\n",
       "      <td>E0006</td>\n",
       "      <td>Albert simon</td>\n",
       "      <td>IT</td>\n",
       "      <td>data scientist</td>\n",
       "      <td>125000dolar</td>\n",
       "      <td>35</td>\n",
       "    </tr>\n",
       "  </tbody>\n",
       "</table>\n",
       "</div>"
      ],
      "text/plain": [
       "      id          staff department             job       salary age\n",
       "2  E0001  Micheal Brown         IT  data scientist   \"$150,000\"  35\n",
       "6  E0005    Adrian STAR         IT  data scientist   \"$135,000\"  40\n",
       "7  E0006   Albert simon         IT  data scientist  125000dolar  35"
      ]
     },
     "execution_count": 22,
     "metadata": {},
     "output_type": "execute_result"
    }
   ],
   "source": [
    "df[df.job.str.startswith('data')]"
   ]
  },
  {
   "cell_type": "code",
   "execution_count": 23,
   "metadata": {},
   "outputs": [
    {
     "data": {
      "text/plain": [
       "0    False\n",
       "1    False\n",
       "2    False\n",
       "3    False\n",
       "4     True\n",
       "5     True\n",
       "6    False\n",
       "7    False\n",
       "Name: job, dtype: bool"
      ]
     },
     "execution_count": 23,
     "metadata": {},
     "output_type": "execute_result"
    }
   ],
   "source": [
    "df.job.str.endswith('developer')"
   ]
  },
  {
   "cell_type": "code",
   "execution_count": 25,
   "metadata": {},
   "outputs": [
    {
     "data": {
      "text/plain": [
       "0    False\n",
       "1    False\n",
       "2     True\n",
       "3    False\n",
       "4    False\n",
       "5    False\n",
       "6     True\n",
       "7     True\n",
       "Name: job, dtype: bool"
      ]
     },
     "execution_count": 25,
     "metadata": {},
     "output_type": "execute_result"
    }
   ],
   "source": [
    "df.job.str.contains('data')"
   ]
  },
  {
   "cell_type": "code",
   "execution_count": 26,
   "metadata": {},
   "outputs": [
    {
     "data": {
      "text/plain": [
       "0     \"$150,000\"\n",
       "1     \"$180,000\"\n",
       "2     \"$150,000\"\n",
       "3    130000dolar\n",
       "4     \"$110,000\"\n",
       "5     \"$120,000\"\n",
       "6     \"$135,000\"\n",
       "7    125000dolar\n",
       "Name: salary, dtype: object"
      ]
     },
     "execution_count": 26,
     "metadata": {},
     "output_type": "execute_result"
    }
   ],
   "source": [
    "df.salary"
   ]
  },
  {
   "cell_type": "code",
   "execution_count": 27,
   "metadata": {},
   "outputs": [
    {
     "data": {
      "text/plain": [
       "0    False\n",
       "1    False\n",
       "2    False\n",
       "3     True\n",
       "4    False\n",
       "5    False\n",
       "6    False\n",
       "7     True\n",
       "Name: salary, dtype: bool"
      ]
     },
     "execution_count": 27,
     "metadata": {},
     "output_type": "execute_result"
    }
   ],
   "source": [
    "df.salary.str.contains(r\"[a-z]\", regex=True)"
   ]
  },
  {
   "cell_type": "markdown",
   "metadata": {},
   "source": [
    "we can use these string methods which returning boolean expression for creating condition and so selecting relative rows"
   ]
  },
  {
   "cell_type": "code",
   "execution_count": 28,
   "metadata": {},
   "outputs": [
    {
     "data": {
      "text/html": [
       "<div>\n",
       "<style scoped>\n",
       "    .dataframe tbody tr th:only-of-type {\n",
       "        vertical-align: middle;\n",
       "    }\n",
       "\n",
       "    .dataframe tbody tr th {\n",
       "        vertical-align: top;\n",
       "    }\n",
       "\n",
       "    .dataframe thead th {\n",
       "        text-align: right;\n",
       "    }\n",
       "</style>\n",
       "<table border=\"1\" class=\"dataframe\">\n",
       "  <thead>\n",
       "    <tr style=\"text-align: right;\">\n",
       "      <th></th>\n",
       "      <th>id</th>\n",
       "      <th>staff</th>\n",
       "      <th>department</th>\n",
       "      <th>job</th>\n",
       "      <th>salary</th>\n",
       "      <th>age</th>\n",
       "    </tr>\n",
       "  </thead>\n",
       "  <tbody>\n",
       "    <tr>\n",
       "      <th>2</th>\n",
       "      <td>E0001</td>\n",
       "      <td>Micheal Brown</td>\n",
       "      <td>IT</td>\n",
       "      <td>data scientist</td>\n",
       "      <td>\"$150,000\"</td>\n",
       "      <td>35</td>\n",
       "    </tr>\n",
       "    <tr>\n",
       "      <th>6</th>\n",
       "      <td>E0005</td>\n",
       "      <td>Adrian STAR</td>\n",
       "      <td>IT</td>\n",
       "      <td>data scientist</td>\n",
       "      <td>\"$135,000\"</td>\n",
       "      <td>40</td>\n",
       "    </tr>\n",
       "    <tr>\n",
       "      <th>7</th>\n",
       "      <td>E0006</td>\n",
       "      <td>Albert simon</td>\n",
       "      <td>IT</td>\n",
       "      <td>data scientist</td>\n",
       "      <td>125000dolar</td>\n",
       "      <td>35</td>\n",
       "    </tr>\n",
       "  </tbody>\n",
       "</table>\n",
       "</div>"
      ],
      "text/plain": [
       "      id          staff department             job       salary age\n",
       "2  E0001  Micheal Brown         IT  data scientist   \"$150,000\"  35\n",
       "6  E0005    Adrian STAR         IT  data scientist   \"$135,000\"  40\n",
       "7  E0006   Albert simon         IT  data scientist  125000dolar  35"
      ]
     },
     "execution_count": 28,
     "metadata": {},
     "output_type": "execute_result"
    }
   ],
   "source": [
    "df[df.job.str.contains('data')]"
   ]
  },
  {
   "cell_type": "code",
   "execution_count": 30,
   "metadata": {},
   "outputs": [],
   "source": [
    "df.loc[df.job.str.contains('data'), 'department'] = 'DS'"
   ]
  },
  {
   "cell_type": "code",
   "execution_count": 31,
   "metadata": {},
   "outputs": [
    {
     "data": {
      "text/html": [
       "<div>\n",
       "<style scoped>\n",
       "    .dataframe tbody tr th:only-of-type {\n",
       "        vertical-align: middle;\n",
       "    }\n",
       "\n",
       "    .dataframe tbody tr th {\n",
       "        vertical-align: top;\n",
       "    }\n",
       "\n",
       "    .dataframe thead th {\n",
       "        text-align: right;\n",
       "    }\n",
       "</style>\n",
       "<table border=\"1\" class=\"dataframe\">\n",
       "  <thead>\n",
       "    <tr style=\"text-align: right;\">\n",
       "      <th></th>\n",
       "      <th>id</th>\n",
       "      <th>staff</th>\n",
       "      <th>department</th>\n",
       "      <th>job</th>\n",
       "      <th>salary</th>\n",
       "      <th>age</th>\n",
       "    </tr>\n",
       "  </thead>\n",
       "  <tbody>\n",
       "    <tr>\n",
       "      <th>0</th>\n",
       "      <td>M0001</td>\n",
       "      <td>Tom BLUE</td>\n",
       "      <td>HR</td>\n",
       "      <td>manager</td>\n",
       "      <td>\"$150,000\"</td>\n",
       "      <td>52</td>\n",
       "    </tr>\n",
       "    <tr>\n",
       "      <th>1</th>\n",
       "      <td>M0002</td>\n",
       "      <td>JOHN BLACK</td>\n",
       "      <td>IT</td>\n",
       "      <td>manager</td>\n",
       "      <td>\"$180,000\"</td>\n",
       "      <td>48</td>\n",
       "    </tr>\n",
       "    <tr>\n",
       "      <th>2</th>\n",
       "      <td>E0001</td>\n",
       "      <td>Micheal Brown</td>\n",
       "      <td>DS</td>\n",
       "      <td>data scientist</td>\n",
       "      <td>\"$150,000\"</td>\n",
       "      <td>35</td>\n",
       "    </tr>\n",
       "    <tr>\n",
       "      <th>3</th>\n",
       "      <td>E0002</td>\n",
       "      <td>jason walker</td>\n",
       "      <td>HR</td>\n",
       "      <td>recruiter</td>\n",
       "      <td>130000dolar</td>\n",
       "      <td>38</td>\n",
       "    </tr>\n",
       "    <tr>\n",
       "      <th>4</th>\n",
       "      <td>E0003</td>\n",
       "      <td>Alex Green</td>\n",
       "      <td>IT</td>\n",
       "      <td>backend developer</td>\n",
       "      <td>\"$110,000\"</td>\n",
       "      <td>-</td>\n",
       "    </tr>\n",
       "    <tr>\n",
       "      <th>5</th>\n",
       "      <td>E0004</td>\n",
       "      <td>OSCAR SMİTH</td>\n",
       "      <td>IT</td>\n",
       "      <td>frontend developer</td>\n",
       "      <td>\"$120,000\"</td>\n",
       "      <td>32</td>\n",
       "    </tr>\n",
       "    <tr>\n",
       "      <th>6</th>\n",
       "      <td>E0005</td>\n",
       "      <td>Adrian STAR</td>\n",
       "      <td>DS</td>\n",
       "      <td>data scientist</td>\n",
       "      <td>\"$135,000\"</td>\n",
       "      <td>40</td>\n",
       "    </tr>\n",
       "    <tr>\n",
       "      <th>7</th>\n",
       "      <td>E0006</td>\n",
       "      <td>Albert simon</td>\n",
       "      <td>DS</td>\n",
       "      <td>data scientist</td>\n",
       "      <td>125000dolar</td>\n",
       "      <td>35</td>\n",
       "    </tr>\n",
       "  </tbody>\n",
       "</table>\n",
       "</div>"
      ],
      "text/plain": [
       "      id          staff department                 job       salary age\n",
       "0  M0001       Tom BLUE         HR             manager   \"$150,000\"  52\n",
       "1  M0002     JOHN BLACK         IT             manager   \"$180,000\"  48\n",
       "2  E0001  Micheal Brown         DS      data scientist   \"$150,000\"  35\n",
       "3  E0002   jason walker         HR           recruiter  130000dolar  38\n",
       "4  E0003     Alex Green         IT   backend developer   \"$110,000\"   -\n",
       "5  E0004    OSCAR SMİTH         IT  frontend developer   \"$120,000\"  32\n",
       "6  E0005    Adrian STAR         DS      data scientist   \"$135,000\"  40\n",
       "7  E0006   Albert simon         DS      data scientist  125000dolar  35"
      ]
     },
     "execution_count": 31,
     "metadata": {},
     "output_type": "execute_result"
    }
   ],
   "source": [
    "df"
   ]
  },
  {
   "cell_type": "code",
   "execution_count": 33,
   "metadata": {},
   "outputs": [
    {
     "data": {
      "text/html": [
       "<div>\n",
       "<style scoped>\n",
       "    .dataframe tbody tr th:only-of-type {\n",
       "        vertical-align: middle;\n",
       "    }\n",
       "\n",
       "    .dataframe tbody tr th {\n",
       "        vertical-align: top;\n",
       "    }\n",
       "\n",
       "    .dataframe thead th {\n",
       "        text-align: right;\n",
       "    }\n",
       "</style>\n",
       "<table border=\"1\" class=\"dataframe\">\n",
       "  <thead>\n",
       "    <tr style=\"text-align: right;\">\n",
       "      <th></th>\n",
       "      <th>id</th>\n",
       "      <th>staff</th>\n",
       "      <th>department</th>\n",
       "      <th>job</th>\n",
       "      <th>salary</th>\n",
       "      <th>age</th>\n",
       "    </tr>\n",
       "  </thead>\n",
       "  <tbody>\n",
       "    <tr>\n",
       "      <th>0</th>\n",
       "      <td>M0001</td>\n",
       "      <td>Tom BLUE</td>\n",
       "      <td>HR</td>\n",
       "      <td>manager</td>\n",
       "      <td>\"$150,000\"</td>\n",
       "      <td>52</td>\n",
       "    </tr>\n",
       "    <tr>\n",
       "      <th>1</th>\n",
       "      <td>M0002</td>\n",
       "      <td>JOHN BLACK</td>\n",
       "      <td>IT</td>\n",
       "      <td>manager</td>\n",
       "      <td>\"$180,000\"</td>\n",
       "      <td>48</td>\n",
       "    </tr>\n",
       "    <tr>\n",
       "      <th>2</th>\n",
       "      <td>E0001</td>\n",
       "      <td>Micheal Brown</td>\n",
       "      <td>IT</td>\n",
       "      <td>data scientist</td>\n",
       "      <td>\"$150,000\"</td>\n",
       "      <td>35</td>\n",
       "    </tr>\n",
       "    <tr>\n",
       "      <th>3</th>\n",
       "      <td>E0002</td>\n",
       "      <td>jason walker</td>\n",
       "      <td>HR</td>\n",
       "      <td>recruiter</td>\n",
       "      <td>130000dolar</td>\n",
       "      <td>38</td>\n",
       "    </tr>\n",
       "    <tr>\n",
       "      <th>4</th>\n",
       "      <td>E0003</td>\n",
       "      <td>Alex Green</td>\n",
       "      <td>IT</td>\n",
       "      <td>backend developer</td>\n",
       "      <td>\"$110,000\"</td>\n",
       "      <td>-</td>\n",
       "    </tr>\n",
       "    <tr>\n",
       "      <th>5</th>\n",
       "      <td>E0004</td>\n",
       "      <td>OSCAR SMİTH</td>\n",
       "      <td>IT</td>\n",
       "      <td>frontend developer</td>\n",
       "      <td>\"$120,000\"</td>\n",
       "      <td>32</td>\n",
       "    </tr>\n",
       "    <tr>\n",
       "      <th>6</th>\n",
       "      <td>E0005</td>\n",
       "      <td>Adrian STAR</td>\n",
       "      <td>IT</td>\n",
       "      <td>data scientist</td>\n",
       "      <td>\"$135,000\"</td>\n",
       "      <td>40</td>\n",
       "    </tr>\n",
       "    <tr>\n",
       "      <th>7</th>\n",
       "      <td>E0006</td>\n",
       "      <td>Albert simon</td>\n",
       "      <td>IT</td>\n",
       "      <td>data scientist</td>\n",
       "      <td>125000dolar</td>\n",
       "      <td>35</td>\n",
       "    </tr>\n",
       "  </tbody>\n",
       "</table>\n",
       "</div>"
      ],
      "text/plain": [
       "      id          staff department                 job       salary age\n",
       "0  M0001       Tom BLUE         HR             manager   \"$150,000\"  52\n",
       "1  M0002     JOHN BLACK         IT             manager   \"$180,000\"  48\n",
       "2  E0001  Micheal Brown         IT      data scientist   \"$150,000\"  35\n",
       "3  E0002   jason walker         HR           recruiter  130000dolar  38\n",
       "4  E0003     Alex Green         IT   backend developer   \"$110,000\"   -\n",
       "5  E0004    OSCAR SMİTH         IT  frontend developer   \"$120,000\"  32\n",
       "6  E0005    Adrian STAR         IT      data scientist   \"$135,000\"  40\n",
       "7  E0006   Albert simon         IT      data scientist  125000dolar  35"
      ]
     },
     "execution_count": 33,
     "metadata": {},
     "output_type": "execute_result"
    }
   ],
   "source": [
    "df.loc[df.job.str.contains('data'), 'department'] = 'IT'\n",
    "df"
   ]
  },
  {
   "cell_type": "markdown",
   "metadata": {},
   "source": [
    "___"
   ]
  },
  {
   "cell_type": "markdown",
   "metadata": {},
   "source": [
    "- **replace() =>** Returns a string where a specified value is replaced with a specified value\n",
    "\n",
    "- **split()\t=>** Splits the string at the specified separator, and returns a list\n",
    "\n",
    "- **strip()\t=>** Returns a trimmed version of the string\n",
    "\n",
    "- **find()\t=>** Searches the string for a specified value and returns the position of where it was found\n",
    "\n",
    "- **findall()\t=>** Returns a list of all occurrence of the pattern.\n",
    "\n",
    "- **join()\t=>** Converts the elements of an iterable into a string"
   ]
  },
  {
   "cell_type": "markdown",
   "metadata": {},
   "source": [
    "___"
   ]
  },
  {
   "cell_type": "code",
   "execution_count": 34,
   "metadata": {},
   "outputs": [
    {
     "data": {
      "text/html": [
       "<div>\n",
       "<style scoped>\n",
       "    .dataframe tbody tr th:only-of-type {\n",
       "        vertical-align: middle;\n",
       "    }\n",
       "\n",
       "    .dataframe tbody tr th {\n",
       "        vertical-align: top;\n",
       "    }\n",
       "\n",
       "    .dataframe thead th {\n",
       "        text-align: right;\n",
       "    }\n",
       "</style>\n",
       "<table border=\"1\" class=\"dataframe\">\n",
       "  <thead>\n",
       "    <tr style=\"text-align: right;\">\n",
       "      <th></th>\n",
       "      <th>id</th>\n",
       "      <th>staff</th>\n",
       "      <th>department</th>\n",
       "      <th>job</th>\n",
       "      <th>salary</th>\n",
       "      <th>age</th>\n",
       "    </tr>\n",
       "  </thead>\n",
       "  <tbody>\n",
       "    <tr>\n",
       "      <th>0</th>\n",
       "      <td>M0001</td>\n",
       "      <td>Tom BLUE</td>\n",
       "      <td>HR</td>\n",
       "      <td>manager</td>\n",
       "      <td>\"$150,000\"</td>\n",
       "      <td>52</td>\n",
       "    </tr>\n",
       "    <tr>\n",
       "      <th>1</th>\n",
       "      <td>M0002</td>\n",
       "      <td>JOHN BLACK</td>\n",
       "      <td>IT</td>\n",
       "      <td>manager</td>\n",
       "      <td>\"$180,000\"</td>\n",
       "      <td>48</td>\n",
       "    </tr>\n",
       "    <tr>\n",
       "      <th>2</th>\n",
       "      <td>E0001</td>\n",
       "      <td>Micheal Brown</td>\n",
       "      <td>IT</td>\n",
       "      <td>data scientist</td>\n",
       "      <td>\"$150,000\"</td>\n",
       "      <td>35</td>\n",
       "    </tr>\n",
       "    <tr>\n",
       "      <th>3</th>\n",
       "      <td>E0002</td>\n",
       "      <td>jason walker</td>\n",
       "      <td>HR</td>\n",
       "      <td>recruiter</td>\n",
       "      <td>130000dolar</td>\n",
       "      <td>38</td>\n",
       "    </tr>\n",
       "    <tr>\n",
       "      <th>4</th>\n",
       "      <td>E0003</td>\n",
       "      <td>Alex Green</td>\n",
       "      <td>IT</td>\n",
       "      <td>backend developer</td>\n",
       "      <td>\"$110,000\"</td>\n",
       "      <td>-</td>\n",
       "    </tr>\n",
       "    <tr>\n",
       "      <th>5</th>\n",
       "      <td>E0004</td>\n",
       "      <td>OSCAR SMİTH</td>\n",
       "      <td>IT</td>\n",
       "      <td>frontend developer</td>\n",
       "      <td>\"$120,000\"</td>\n",
       "      <td>32</td>\n",
       "    </tr>\n",
       "    <tr>\n",
       "      <th>6</th>\n",
       "      <td>E0005</td>\n",
       "      <td>Adrian STAR</td>\n",
       "      <td>IT</td>\n",
       "      <td>data scientist</td>\n",
       "      <td>\"$135,000\"</td>\n",
       "      <td>40</td>\n",
       "    </tr>\n",
       "    <tr>\n",
       "      <th>7</th>\n",
       "      <td>E0006</td>\n",
       "      <td>Albert simon</td>\n",
       "      <td>IT</td>\n",
       "      <td>data scientist</td>\n",
       "      <td>125000dolar</td>\n",
       "      <td>35</td>\n",
       "    </tr>\n",
       "  </tbody>\n",
       "</table>\n",
       "</div>"
      ],
      "text/plain": [
       "      id          staff department                 job       salary age\n",
       "0  M0001       Tom BLUE         HR             manager   \"$150,000\"  52\n",
       "1  M0002     JOHN BLACK         IT             manager   \"$180,000\"  48\n",
       "2  E0001  Micheal Brown         IT      data scientist   \"$150,000\"  35\n",
       "3  E0002   jason walker         HR           recruiter  130000dolar  38\n",
       "4  E0003     Alex Green         IT   backend developer   \"$110,000\"   -\n",
       "5  E0004    OSCAR SMİTH         IT  frontend developer   \"$120,000\"  32\n",
       "6  E0005    Adrian STAR         IT      data scientist   \"$135,000\"  40\n",
       "7  E0006   Albert simon         IT      data scientist  125000dolar  35"
      ]
     },
     "execution_count": 34,
     "metadata": {},
     "output_type": "execute_result"
    }
   ],
   "source": [
    "df"
   ]
  },
  {
   "cell_type": "code",
   "execution_count": 38,
   "metadata": {},
   "outputs": [
    {
     "data": {
      "text/plain": [
       "0       $150,000\n",
       "1       $180,000\n",
       "2       $150,000\n",
       "3    130000dolar\n",
       "4       $110,000\n",
       "5       $120,000\n",
       "6       $135,000\n",
       "7    125000dolar\n",
       "Name: salary, dtype: object"
      ]
     },
     "execution_count": 38,
     "metadata": {},
     "output_type": "execute_result"
    }
   ],
   "source": [
    "df.salary.str.strip('\\\"')"
   ]
  },
  {
   "cell_type": "code",
   "execution_count": 39,
   "metadata": {},
   "outputs": [
    {
     "data": {
      "text/plain": [
       "0    $150,000\n",
       "1    $180,000\n",
       "2    $150,000\n",
       "3      130000\n",
       "4    $110,000\n",
       "5    $120,000\n",
       "6    $135,000\n",
       "7      125000\n",
       "Name: salary, dtype: object"
      ]
     },
     "execution_count": 39,
     "metadata": {},
     "output_type": "execute_result"
    }
   ],
   "source": [
    "df.salary.str.strip('\\\"').str.rstrip('dolar')"
   ]
  },
  {
   "cell_type": "code",
   "execution_count": 40,
   "metadata": {},
   "outputs": [
    {
     "data": {
      "text/plain": [
       "0    150,000\n",
       "1    180,000\n",
       "2    150,000\n",
       "3     130000\n",
       "4    110,000\n",
       "5    120,000\n",
       "6    135,000\n",
       "7     125000\n",
       "Name: salary, dtype: object"
      ]
     },
     "execution_count": 40,
     "metadata": {},
     "output_type": "execute_result"
    }
   ],
   "source": [
    "df.salary.str.strip('\\\"').str.rstrip('dolar').str.lstrip('$')"
   ]
  },
  {
   "cell_type": "code",
   "execution_count": 41,
   "metadata": {},
   "outputs": [
    {
     "data": {
      "text/plain": [
       "0    150,000\n",
       "1    180,000\n",
       "2    150,000\n",
       "3     130000\n",
       "4    110,000\n",
       "5    120,000\n",
       "6    135,000\n",
       "7     125000\n",
       "Name: salary, dtype: object"
      ]
     },
     "execution_count": 41,
     "metadata": {},
     "output_type": "execute_result"
    }
   ],
   "source": [
    "df.salary.str.strip('\\\"$dolar')"
   ]
  },
  {
   "cell_type": "code",
   "execution_count": 42,
   "metadata": {},
   "outputs": [
    {
     "data": {
      "text/plain": [
       "dtype('O')"
      ]
     },
     "execution_count": 42,
     "metadata": {},
     "output_type": "execute_result"
    }
   ],
   "source": [
    "df.salary.str.strip('\\\"$dolar').dtype"
   ]
  },
  {
   "cell_type": "code",
   "execution_count": 44,
   "metadata": {},
   "outputs": [
    {
     "data": {
      "text/plain": [
       "0    150000\n",
       "1    180000\n",
       "2    150000\n",
       "3    130000\n",
       "4    110000\n",
       "5    120000\n",
       "6    135000\n",
       "7    125000\n",
       "Name: salary, dtype: object"
      ]
     },
     "execution_count": 44,
     "metadata": {},
     "output_type": "execute_result"
    }
   ],
   "source": [
    "df.salary.str.strip('\\\"$dolar').str.replace(\",\",\"\")"
   ]
  },
  {
   "cell_type": "code",
   "execution_count": 45,
   "metadata": {},
   "outputs": [
    {
     "data": {
      "text/plain": [
       "0    150000.0\n",
       "1    180000.0\n",
       "2    150000.0\n",
       "3    130000.0\n",
       "4    110000.0\n",
       "5    120000.0\n",
       "6    135000.0\n",
       "7    125000.0\n",
       "Name: salary, dtype: float64"
      ]
     },
     "execution_count": 45,
     "metadata": {},
     "output_type": "execute_result"
    }
   ],
   "source": [
    "df.salary.str.strip('\\\"$dolar').str.replace(\",\",\"\").astype('float')"
   ]
  },
  {
   "cell_type": "code",
   "execution_count": 46,
   "metadata": {},
   "outputs": [],
   "source": [
    "df['salary'] = df.salary.str.strip('\\\"$dolar').str.replace(\",\",\"\").astype('float')"
   ]
  },
  {
   "cell_type": "code",
   "execution_count": 47,
   "metadata": {},
   "outputs": [
    {
     "data": {
      "text/html": [
       "<div>\n",
       "<style scoped>\n",
       "    .dataframe tbody tr th:only-of-type {\n",
       "        vertical-align: middle;\n",
       "    }\n",
       "\n",
       "    .dataframe tbody tr th {\n",
       "        vertical-align: top;\n",
       "    }\n",
       "\n",
       "    .dataframe thead th {\n",
       "        text-align: right;\n",
       "    }\n",
       "</style>\n",
       "<table border=\"1\" class=\"dataframe\">\n",
       "  <thead>\n",
       "    <tr style=\"text-align: right;\">\n",
       "      <th></th>\n",
       "      <th>id</th>\n",
       "      <th>staff</th>\n",
       "      <th>department</th>\n",
       "      <th>job</th>\n",
       "      <th>salary</th>\n",
       "      <th>age</th>\n",
       "    </tr>\n",
       "  </thead>\n",
       "  <tbody>\n",
       "    <tr>\n",
       "      <th>0</th>\n",
       "      <td>M0001</td>\n",
       "      <td>Tom BLUE</td>\n",
       "      <td>HR</td>\n",
       "      <td>manager</td>\n",
       "      <td>150000.0</td>\n",
       "      <td>52</td>\n",
       "    </tr>\n",
       "    <tr>\n",
       "      <th>1</th>\n",
       "      <td>M0002</td>\n",
       "      <td>JOHN BLACK</td>\n",
       "      <td>IT</td>\n",
       "      <td>manager</td>\n",
       "      <td>180000.0</td>\n",
       "      <td>48</td>\n",
       "    </tr>\n",
       "    <tr>\n",
       "      <th>2</th>\n",
       "      <td>E0001</td>\n",
       "      <td>Micheal Brown</td>\n",
       "      <td>IT</td>\n",
       "      <td>data scientist</td>\n",
       "      <td>150000.0</td>\n",
       "      <td>35</td>\n",
       "    </tr>\n",
       "    <tr>\n",
       "      <th>3</th>\n",
       "      <td>E0002</td>\n",
       "      <td>jason walker</td>\n",
       "      <td>HR</td>\n",
       "      <td>recruiter</td>\n",
       "      <td>130000.0</td>\n",
       "      <td>38</td>\n",
       "    </tr>\n",
       "    <tr>\n",
       "      <th>4</th>\n",
       "      <td>E0003</td>\n",
       "      <td>Alex Green</td>\n",
       "      <td>IT</td>\n",
       "      <td>backend developer</td>\n",
       "      <td>110000.0</td>\n",
       "      <td>-</td>\n",
       "    </tr>\n",
       "    <tr>\n",
       "      <th>5</th>\n",
       "      <td>E0004</td>\n",
       "      <td>OSCAR SMİTH</td>\n",
       "      <td>IT</td>\n",
       "      <td>frontend developer</td>\n",
       "      <td>120000.0</td>\n",
       "      <td>32</td>\n",
       "    </tr>\n",
       "    <tr>\n",
       "      <th>6</th>\n",
       "      <td>E0005</td>\n",
       "      <td>Adrian STAR</td>\n",
       "      <td>IT</td>\n",
       "      <td>data scientist</td>\n",
       "      <td>135000.0</td>\n",
       "      <td>40</td>\n",
       "    </tr>\n",
       "    <tr>\n",
       "      <th>7</th>\n",
       "      <td>E0006</td>\n",
       "      <td>Albert simon</td>\n",
       "      <td>IT</td>\n",
       "      <td>data scientist</td>\n",
       "      <td>125000.0</td>\n",
       "      <td>35</td>\n",
       "    </tr>\n",
       "  </tbody>\n",
       "</table>\n",
       "</div>"
      ],
      "text/plain": [
       "      id          staff department                 job    salary age\n",
       "0  M0001       Tom BLUE         HR             manager  150000.0  52\n",
       "1  M0002     JOHN BLACK         IT             manager  180000.0  48\n",
       "2  E0001  Micheal Brown         IT      data scientist  150000.0  35\n",
       "3  E0002   jason walker         HR           recruiter  130000.0  38\n",
       "4  E0003     Alex Green         IT   backend developer  110000.0   -\n",
       "5  E0004    OSCAR SMİTH         IT  frontend developer  120000.0  32\n",
       "6  E0005    Adrian STAR         IT      data scientist  135000.0  40\n",
       "7  E0006   Albert simon         IT      data scientist  125000.0  35"
      ]
     },
     "execution_count": 47,
     "metadata": {},
     "output_type": "execute_result"
    }
   ],
   "source": [
    "df"
   ]
  },
  {
   "cell_type": "code",
   "execution_count": 48,
   "metadata": {},
   "outputs": [
    {
     "data": {
      "text/plain": [
       "0    52\n",
       "1    48\n",
       "2    35\n",
       "3    38\n",
       "4     -\n",
       "5    32\n",
       "6    40\n",
       "7    35\n",
       "Name: age, dtype: object"
      ]
     },
     "execution_count": 48,
     "metadata": {},
     "output_type": "execute_result"
    }
   ],
   "source": [
    "df.age"
   ]
  },
  {
   "cell_type": "code",
   "execution_count": 49,
   "metadata": {},
   "outputs": [
    {
     "data": {
      "text/plain": [
       "0    52.0\n",
       "1    48.0\n",
       "2    35.0\n",
       "3    38.0\n",
       "4     NaN\n",
       "5    32.0\n",
       "6    40.0\n",
       "7    35.0\n",
       "Name: age, dtype: float64"
      ]
     },
     "execution_count": 49,
     "metadata": {},
     "output_type": "execute_result"
    }
   ],
   "source": [
    "df.age.replace('-',np.nan)"
   ]
  },
  {
   "cell_type": "code",
   "execution_count": null,
   "metadata": {},
   "outputs": [],
   "source": [
    "df.age.replace('-',np.nan)\n",
    "# df.age.str.replace('-',np.nan) # gives an error"
   ]
  },
  {
   "cell_type": "code",
   "execution_count": 50,
   "metadata": {},
   "outputs": [
    {
     "data": {
      "text/plain": [
       "0    52.0\n",
       "1    48.0\n",
       "2    35.0\n",
       "3    38.0\n",
       "4     NaN\n",
       "5    32.0\n",
       "6    40.0\n",
       "7    35.0\n",
       "Name: age, dtype: float64"
      ]
     },
     "execution_count": 50,
     "metadata": {},
     "output_type": "execute_result"
    }
   ],
   "source": [
    "df['age'] = df.age.replace('-',np.nan)\n",
    "df.age"
   ]
  },
  {
   "cell_type": "markdown",
   "metadata": {},
   "source": [
    "**str.replace() vs .replace()**\n",
    "\n",
    "- **Purpose:** Use **str.replace** for substring replacements on a single string column, and **replace** for any general replacement on one or more columns.\n",
    "\n",
    "- **Usage:** **str.replace** can replace one thing at a time. **replace** lets you perform multiple independent replacements, i.e., replace many things at once.\n",
    "\n",
    "- **Default behavior:** **str.replace** enables regex replacement by default. **replace** only performs a full match unless the regex=True switch is used."
   ]
  },
  {
   "cell_type": "code",
   "execution_count": 51,
   "metadata": {},
   "outputs": [
    {
     "data": {
      "text/plain": [
       "0         Tom BLUE\n",
       "1       JOHN BLACK\n",
       "2    Micheal Brown\n",
       "3     jason walker\n",
       "4       Alex Green\n",
       "5      OSCAR SMİTH\n",
       "6      Adrian STAR\n",
       "7     Albert simon\n",
       "Name: staff, dtype: object"
      ]
     },
     "execution_count": 51,
     "metadata": {},
     "output_type": "execute_result"
    }
   ],
   "source": [
    "df.staff"
   ]
  },
  {
   "cell_type": "code",
   "execution_count": 52,
   "metadata": {},
   "outputs": [
    {
     "data": {
      "text/plain": [
       "0         [Tom, Blue]\n",
       "1       [John, Black]\n",
       "2    [Micheal, Brown]\n",
       "3     [Jason, Walker]\n",
       "4       [Alex, Green]\n",
       "5     [Oscar, Smi̇th]\n",
       "6      [Adrian, Star]\n",
       "7     [Albert, Simon]\n",
       "Name: staff, dtype: object"
      ]
     },
     "execution_count": 52,
     "metadata": {},
     "output_type": "execute_result"
    }
   ],
   "source": [
    "df.staff.str.title().str.split()"
   ]
  },
  {
   "cell_type": "code",
   "execution_count": 53,
   "metadata": {},
   "outputs": [
    {
     "data": {
      "text/plain": [
       "0        Tom\n",
       "1       John\n",
       "2    Micheal\n",
       "3      Jason\n",
       "4       Alex\n",
       "5      Oscar\n",
       "6     Adrian\n",
       "7     Albert\n",
       "Name: staff, dtype: object"
      ]
     },
     "execution_count": 53,
     "metadata": {},
     "output_type": "execute_result"
    }
   ],
   "source": [
    "df.staff.str.title().str.split().str[0]"
   ]
  },
  {
   "cell_type": "code",
   "execution_count": 56,
   "metadata": {},
   "outputs": [
    {
     "ename": "AttributeError",
     "evalue": "'DataFrame' object has no attribute 'staff'",
     "output_type": "error",
     "traceback": [
      "\u001b[1;31m---------------------------------------------------------------------------\u001b[0m",
      "\u001b[1;31mAttributeError\u001b[0m                            Traceback (most recent call last)",
      "\u001b[1;32m<ipython-input-56-93f5dbbdab52>\u001b[0m in \u001b[0;36m<module>\u001b[1;34m\u001b[0m\n\u001b[1;32m----> 1\u001b[1;33m \u001b[0mdf\u001b[0m\u001b[1;33m[\u001b[0m\u001b[1;34m\"name\"\u001b[0m\u001b[1;33m]\u001b[0m \u001b[1;33m=\u001b[0m \u001b[0mdf\u001b[0m\u001b[1;33m.\u001b[0m\u001b[0mstaff\u001b[0m\u001b[1;33m.\u001b[0m\u001b[0mstr\u001b[0m\u001b[1;33m.\u001b[0m\u001b[0mtitle\u001b[0m\u001b[1;33m(\u001b[0m\u001b[1;33m)\u001b[0m\u001b[1;33m.\u001b[0m\u001b[0mstr\u001b[0m\u001b[1;33m.\u001b[0m\u001b[0msplit\u001b[0m\u001b[1;33m(\u001b[0m\u001b[1;33m)\u001b[0m\u001b[1;33m.\u001b[0m\u001b[0mstr\u001b[0m\u001b[1;33m[\u001b[0m\u001b[1;36m0\u001b[0m\u001b[1;33m]\u001b[0m\u001b[1;33m\u001b[0m\u001b[1;33m\u001b[0m\u001b[0m\n\u001b[0m\u001b[0;32m      2\u001b[0m \u001b[0mdf\u001b[0m\u001b[1;33m[\u001b[0m\u001b[1;34m\"sir_name\"\u001b[0m\u001b[1;33m]\u001b[0m \u001b[1;33m=\u001b[0m \u001b[0mdf\u001b[0m\u001b[1;33m.\u001b[0m\u001b[0mstaff\u001b[0m\u001b[1;33m.\u001b[0m\u001b[0mstr\u001b[0m\u001b[1;33m.\u001b[0m\u001b[0mtitle\u001b[0m\u001b[1;33m(\u001b[0m\u001b[1;33m)\u001b[0m\u001b[1;33m.\u001b[0m\u001b[0mstr\u001b[0m\u001b[1;33m.\u001b[0m\u001b[0msplit\u001b[0m\u001b[1;33m(\u001b[0m\u001b[1;33m)\u001b[0m\u001b[1;33m.\u001b[0m\u001b[0mstr\u001b[0m\u001b[1;33m[\u001b[0m\u001b[1;36m1\u001b[0m\u001b[1;33m]\u001b[0m\u001b[1;33m\u001b[0m\u001b[1;33m\u001b[0m\u001b[0m\n\u001b[0;32m      3\u001b[0m \u001b[0mdf\u001b[0m\u001b[1;33m.\u001b[0m\u001b[0mdrop\u001b[0m\u001b[1;33m(\u001b[0m\u001b[1;34m\"staff\"\u001b[0m\u001b[1;33m,\u001b[0m \u001b[0maxis\u001b[0m\u001b[1;33m=\u001b[0m\u001b[1;36m1\u001b[0m\u001b[1;33m,\u001b[0m \u001b[0minplace\u001b[0m\u001b[1;33m=\u001b[0m\u001b[1;32mTrue\u001b[0m\u001b[1;33m)\u001b[0m\u001b[1;33m\u001b[0m\u001b[1;33m\u001b[0m\u001b[0m\n",
      "\u001b[1;32m~\\AppData\\Local\\Programs\\Python\\Python39\\lib\\site-packages\\pandas\\core\\generic.py\u001b[0m in \u001b[0;36m__getattr__\u001b[1;34m(self, name)\u001b[0m\n\u001b[0;32m   5463\u001b[0m             \u001b[1;32mif\u001b[0m \u001b[0mself\u001b[0m\u001b[1;33m.\u001b[0m\u001b[0m_info_axis\u001b[0m\u001b[1;33m.\u001b[0m\u001b[0m_can_hold_identifiers_and_holds_name\u001b[0m\u001b[1;33m(\u001b[0m\u001b[0mname\u001b[0m\u001b[1;33m)\u001b[0m\u001b[1;33m:\u001b[0m\u001b[1;33m\u001b[0m\u001b[1;33m\u001b[0m\u001b[0m\n\u001b[0;32m   5464\u001b[0m                 \u001b[1;32mreturn\u001b[0m \u001b[0mself\u001b[0m\u001b[1;33m[\u001b[0m\u001b[0mname\u001b[0m\u001b[1;33m]\u001b[0m\u001b[1;33m\u001b[0m\u001b[1;33m\u001b[0m\u001b[0m\n\u001b[1;32m-> 5465\u001b[1;33m             \u001b[1;32mreturn\u001b[0m \u001b[0mobject\u001b[0m\u001b[1;33m.\u001b[0m\u001b[0m__getattribute__\u001b[0m\u001b[1;33m(\u001b[0m\u001b[0mself\u001b[0m\u001b[1;33m,\u001b[0m \u001b[0mname\u001b[0m\u001b[1;33m)\u001b[0m\u001b[1;33m\u001b[0m\u001b[1;33m\u001b[0m\u001b[0m\n\u001b[0m\u001b[0;32m   5466\u001b[0m \u001b[1;33m\u001b[0m\u001b[0m\n\u001b[0;32m   5467\u001b[0m     \u001b[1;32mdef\u001b[0m \u001b[0m__setattr__\u001b[0m\u001b[1;33m(\u001b[0m\u001b[0mself\u001b[0m\u001b[1;33m,\u001b[0m \u001b[0mname\u001b[0m\u001b[1;33m:\u001b[0m \u001b[0mstr\u001b[0m\u001b[1;33m,\u001b[0m \u001b[0mvalue\u001b[0m\u001b[1;33m)\u001b[0m \u001b[1;33m->\u001b[0m \u001b[1;32mNone\u001b[0m\u001b[1;33m:\u001b[0m\u001b[1;33m\u001b[0m\u001b[1;33m\u001b[0m\u001b[0m\n",
      "\u001b[1;31mAttributeError\u001b[0m: 'DataFrame' object has no attribute 'staff'"
     ]
    }
   ],
   "source": [
    "df[\"name\"] = df.staff.str.title().str.split().str[0]\n",
    "df[\"sir_name\"] = df.staff.str.title().str.split().str[1]\n",
    "df.drop(\"staff\", axis=1, inplace=True)"
   ]
  },
  {
   "cell_type": "code",
   "execution_count": 57,
   "metadata": {},
   "outputs": [
    {
     "data": {
      "text/html": [
       "<div>\n",
       "<style scoped>\n",
       "    .dataframe tbody tr th:only-of-type {\n",
       "        vertical-align: middle;\n",
       "    }\n",
       "\n",
       "    .dataframe tbody tr th {\n",
       "        vertical-align: top;\n",
       "    }\n",
       "\n",
       "    .dataframe thead th {\n",
       "        text-align: right;\n",
       "    }\n",
       "</style>\n",
       "<table border=\"1\" class=\"dataframe\">\n",
       "  <thead>\n",
       "    <tr style=\"text-align: right;\">\n",
       "      <th></th>\n",
       "      <th>id</th>\n",
       "      <th>department</th>\n",
       "      <th>job</th>\n",
       "      <th>salary</th>\n",
       "      <th>age</th>\n",
       "      <th>name</th>\n",
       "      <th>sir_name</th>\n",
       "    </tr>\n",
       "  </thead>\n",
       "  <tbody>\n",
       "    <tr>\n",
       "      <th>0</th>\n",
       "      <td>M0001</td>\n",
       "      <td>HR</td>\n",
       "      <td>manager</td>\n",
       "      <td>150000.0</td>\n",
       "      <td>52.0</td>\n",
       "      <td>Tom</td>\n",
       "      <td>Blue</td>\n",
       "    </tr>\n",
       "    <tr>\n",
       "      <th>1</th>\n",
       "      <td>M0002</td>\n",
       "      <td>IT</td>\n",
       "      <td>manager</td>\n",
       "      <td>180000.0</td>\n",
       "      <td>48.0</td>\n",
       "      <td>John</td>\n",
       "      <td>Black</td>\n",
       "    </tr>\n",
       "    <tr>\n",
       "      <th>2</th>\n",
       "      <td>E0001</td>\n",
       "      <td>IT</td>\n",
       "      <td>data scientist</td>\n",
       "      <td>150000.0</td>\n",
       "      <td>35.0</td>\n",
       "      <td>Micheal</td>\n",
       "      <td>Brown</td>\n",
       "    </tr>\n",
       "    <tr>\n",
       "      <th>3</th>\n",
       "      <td>E0002</td>\n",
       "      <td>HR</td>\n",
       "      <td>recruiter</td>\n",
       "      <td>130000.0</td>\n",
       "      <td>38.0</td>\n",
       "      <td>Jason</td>\n",
       "      <td>Walker</td>\n",
       "    </tr>\n",
       "    <tr>\n",
       "      <th>4</th>\n",
       "      <td>E0003</td>\n",
       "      <td>IT</td>\n",
       "      <td>backend developer</td>\n",
       "      <td>110000.0</td>\n",
       "      <td>NaN</td>\n",
       "      <td>Alex</td>\n",
       "      <td>Green</td>\n",
       "    </tr>\n",
       "    <tr>\n",
       "      <th>5</th>\n",
       "      <td>E0004</td>\n",
       "      <td>IT</td>\n",
       "      <td>frontend developer</td>\n",
       "      <td>120000.0</td>\n",
       "      <td>32.0</td>\n",
       "      <td>Oscar</td>\n",
       "      <td>Smi̇th</td>\n",
       "    </tr>\n",
       "    <tr>\n",
       "      <th>6</th>\n",
       "      <td>E0005</td>\n",
       "      <td>IT</td>\n",
       "      <td>data scientist</td>\n",
       "      <td>135000.0</td>\n",
       "      <td>40.0</td>\n",
       "      <td>Adrian</td>\n",
       "      <td>Star</td>\n",
       "    </tr>\n",
       "    <tr>\n",
       "      <th>7</th>\n",
       "      <td>E0006</td>\n",
       "      <td>IT</td>\n",
       "      <td>data scientist</td>\n",
       "      <td>125000.0</td>\n",
       "      <td>35.0</td>\n",
       "      <td>Albert</td>\n",
       "      <td>Simon</td>\n",
       "    </tr>\n",
       "  </tbody>\n",
       "</table>\n",
       "</div>"
      ],
      "text/plain": [
       "      id department                 job    salary   age     name sir_name\n",
       "0  M0001         HR             manager  150000.0  52.0      Tom     Blue\n",
       "1  M0002         IT             manager  180000.0  48.0     John    Black\n",
       "2  E0001         IT      data scientist  150000.0  35.0  Micheal    Brown\n",
       "3  E0002         HR           recruiter  130000.0  38.0    Jason   Walker\n",
       "4  E0003         IT   backend developer  110000.0   NaN     Alex    Green\n",
       "5  E0004         IT  frontend developer  120000.0  32.0    Oscar   Smi̇th\n",
       "6  E0005         IT      data scientist  135000.0  40.0   Adrian     Star\n",
       "7  E0006         IT      data scientist  125000.0  35.0   Albert    Simon"
      ]
     },
     "execution_count": 57,
     "metadata": {},
     "output_type": "execute_result"
    }
   ],
   "source": [
    "df"
   ]
  },
  {
   "cell_type": "code",
   "execution_count": 58,
   "metadata": {},
   "outputs": [
    {
     "data": {
      "text/plain": [
       "0   -1\n",
       "1   -1\n",
       "2    5\n",
       "3   -1\n",
       "4   -1\n",
       "5   -1\n",
       "6    5\n",
       "7    5\n",
       "Name: job, dtype: int64"
      ]
     },
     "execution_count": 58,
     "metadata": {},
     "output_type": "execute_result"
    }
   ],
   "source": [
    "df.job.str.find('s')"
   ]
  },
  {
   "cell_type": "code",
   "execution_count": 59,
   "metadata": {},
   "outputs": [
    {
     "data": {
      "text/plain": [
       "0        []\n",
       "1        []\n",
       "2    [s, s]\n",
       "3        []\n",
       "4        []\n",
       "5        []\n",
       "6    [s, s]\n",
       "7    [s, s]\n",
       "Name: job, dtype: object"
      ]
     },
     "execution_count": 59,
     "metadata": {},
     "output_type": "execute_result"
    }
   ],
   "source": [
    "df.job.str.findall('s')"
   ]
  },
  {
   "cell_type": "code",
   "execution_count": 60,
   "metadata": {},
   "outputs": [
    {
     "data": {
      "text/plain": [
       "0    0\n",
       "1    0\n",
       "2    2\n",
       "3    0\n",
       "4    0\n",
       "5    0\n",
       "6    2\n",
       "7    2\n",
       "Name: job, dtype: int64"
      ]
     },
     "execution_count": 60,
     "metadata": {},
     "output_type": "execute_result"
    }
   ],
   "source": [
    "df.job.str.findall('s').apply(len)"
   ]
  },
  {
   "cell_type": "code",
   "execution_count": 61,
   "metadata": {},
   "outputs": [
    {
     "data": {
      "text/html": [
       "<div>\n",
       "<style scoped>\n",
       "    .dataframe tbody tr th:only-of-type {\n",
       "        vertical-align: middle;\n",
       "    }\n",
       "\n",
       "    .dataframe tbody tr th {\n",
       "        vertical-align: top;\n",
       "    }\n",
       "\n",
       "    .dataframe thead th {\n",
       "        text-align: right;\n",
       "    }\n",
       "</style>\n",
       "<table border=\"1\" class=\"dataframe\">\n",
       "  <thead>\n",
       "    <tr style=\"text-align: right;\">\n",
       "      <th></th>\n",
       "      <th>id</th>\n",
       "      <th>department</th>\n",
       "      <th>job</th>\n",
       "      <th>salary</th>\n",
       "      <th>age</th>\n",
       "      <th>name</th>\n",
       "      <th>sir_name</th>\n",
       "      <th>skills</th>\n",
       "      <th>Skills</th>\n",
       "    </tr>\n",
       "  </thead>\n",
       "  <tbody>\n",
       "    <tr>\n",
       "      <th>0</th>\n",
       "      <td>M0001</td>\n",
       "      <td>HR</td>\n",
       "      <td>manager</td>\n",
       "      <td>150000.0</td>\n",
       "      <td>52.0</td>\n",
       "      <td>Tom</td>\n",
       "      <td>Blue</td>\n",
       "      <td>[]</td>\n",
       "      <td>[]</td>\n",
       "    </tr>\n",
       "    <tr>\n",
       "      <th>1</th>\n",
       "      <td>M0002</td>\n",
       "      <td>IT</td>\n",
       "      <td>manager</td>\n",
       "      <td>180000.0</td>\n",
       "      <td>48.0</td>\n",
       "      <td>John</td>\n",
       "      <td>Black</td>\n",
       "      <td>[Java, C++]</td>\n",
       "      <td>Java,C++</td>\n",
       "    </tr>\n",
       "    <tr>\n",
       "      <th>2</th>\n",
       "      <td>E0001</td>\n",
       "      <td>IT</td>\n",
       "      <td>data scientist</td>\n",
       "      <td>150000.0</td>\n",
       "      <td>35.0</td>\n",
       "      <td>Micheal</td>\n",
       "      <td>Brown</td>\n",
       "      <td>[Python, Tableau, SQL]</td>\n",
       "      <td>[Python, Tableau, SQL]</td>\n",
       "    </tr>\n",
       "    <tr>\n",
       "      <th>3</th>\n",
       "      <td>E0002</td>\n",
       "      <td>HR</td>\n",
       "      <td>recruiter</td>\n",
       "      <td>130000.0</td>\n",
       "      <td>38.0</td>\n",
       "      <td>Jason</td>\n",
       "      <td>Walker</td>\n",
       "      <td>[]</td>\n",
       "      <td>[]</td>\n",
       "    </tr>\n",
       "    <tr>\n",
       "      <th>4</th>\n",
       "      <td>E0003</td>\n",
       "      <td>IT</td>\n",
       "      <td>backend developer</td>\n",
       "      <td>110000.0</td>\n",
       "      <td>NaN</td>\n",
       "      <td>Alex</td>\n",
       "      <td>Green</td>\n",
       "      <td>[React, Django]</td>\n",
       "      <td>[React, Django]</td>\n",
       "    </tr>\n",
       "    <tr>\n",
       "      <th>5</th>\n",
       "      <td>E0004</td>\n",
       "      <td>IT</td>\n",
       "      <td>frontend developer</td>\n",
       "      <td>120000.0</td>\n",
       "      <td>32.0</td>\n",
       "      <td>Oscar</td>\n",
       "      <td>Smi̇th</td>\n",
       "      <td>[JavaScript, Python]</td>\n",
       "      <td>[JavaScript, Python]</td>\n",
       "    </tr>\n",
       "    <tr>\n",
       "      <th>6</th>\n",
       "      <td>E0005</td>\n",
       "      <td>IT</td>\n",
       "      <td>data scientist</td>\n",
       "      <td>135000.0</td>\n",
       "      <td>40.0</td>\n",
       "      <td>Adrian</td>\n",
       "      <td>Star</td>\n",
       "      <td>[R, SQL]</td>\n",
       "      <td>[R, SQL]</td>\n",
       "    </tr>\n",
       "    <tr>\n",
       "      <th>7</th>\n",
       "      <td>E0006</td>\n",
       "      <td>IT</td>\n",
       "      <td>data scientist</td>\n",
       "      <td>125000.0</td>\n",
       "      <td>35.0</td>\n",
       "      <td>Albert</td>\n",
       "      <td>Simon</td>\n",
       "      <td>[SQL, Python]</td>\n",
       "      <td>[SQL, Python]</td>\n",
       "    </tr>\n",
       "  </tbody>\n",
       "</table>\n",
       "</div>"
      ],
      "text/plain": [
       "      id department                 job    salary   age     name sir_name  \\\n",
       "0  M0001         HR             manager  150000.0  52.0      Tom     Blue   \n",
       "1  M0002         IT             manager  180000.0  48.0     John    Black   \n",
       "2  E0001         IT      data scientist  150000.0  35.0  Micheal    Brown   \n",
       "3  E0002         HR           recruiter  130000.0  38.0    Jason   Walker   \n",
       "4  E0003         IT   backend developer  110000.0   NaN     Alex    Green   \n",
       "5  E0004         IT  frontend developer  120000.0  32.0    Oscar   Smi̇th   \n",
       "6  E0005         IT      data scientist  135000.0  40.0   Adrian     Star   \n",
       "7  E0006         IT      data scientist  125000.0  35.0   Albert    Simon   \n",
       "\n",
       "                   skills                  Skills  \n",
       "0                      []                      []  \n",
       "1             [Java, C++]                Java,C++  \n",
       "2  [Python, Tableau, SQL]  [Python, Tableau, SQL]  \n",
       "3                      []                      []  \n",
       "4         [React, Django]         [React, Django]  \n",
       "5    [JavaScript, Python]    [JavaScript, Python]  \n",
       "6                [R, SQL]                [R, SQL]  \n",
       "7           [SQL, Python]           [SQL, Python]  "
      ]
     },
     "execution_count": 61,
     "metadata": {},
     "output_type": "execute_result"
    }
   ],
   "source": [
    "df[\"skills\"] = [[],[\"Java\",\"C++\"],[\"Python\",\"Tableau\",\"SQL\"],[],[\"React\",\"Django\"],[\"JavaScript\",\"Python\"],[\"R\",\"SQL\"],[\"SQL\",\"Python\"]]\n",
    "df[\"Skills\"] = [[],[],[\"Python\",\"Tableau\",\"SQL\"],[],[\"React\",\"Django\"],[\"JavaScript\",\"Python\"],[\"R\",\"SQL\"],[\"SQL\",\"Python\"]]\n",
    "df.loc[1, \"Skills\"] = \"Java,C++\"\n",
    "df"
   ]
  },
  {
   "cell_type": "code",
   "execution_count": 63,
   "metadata": {},
   "outputs": [
    {
     "data": {
      "text/plain": [
       "0                      \n",
       "1              Java,C++\n",
       "2    Python,Tableau,SQL\n",
       "3                      \n",
       "4          React,Django\n",
       "5     JavaScript,Python\n",
       "6                 R,SQL\n",
       "7            SQL,Python\n",
       "Name: skills, dtype: object"
      ]
     },
     "execution_count": 63,
     "metadata": {},
     "output_type": "execute_result"
    }
   ],
   "source": [
    "df.skills.str.join(\",\")"
   ]
  },
  {
   "cell_type": "code",
   "execution_count": 64,
   "metadata": {},
   "outputs": [
    {
     "data": {
      "text/plain": [
       "0                      \n",
       "1       J,a,v,a,,,C,+,+\n",
       "2    Python,Tableau,SQL\n",
       "3                      \n",
       "4          React,Django\n",
       "5     JavaScript,Python\n",
       "6                 R,SQL\n",
       "7            SQL,Python\n",
       "Name: Skills, dtype: object"
      ]
     },
     "execution_count": 64,
     "metadata": {},
     "output_type": "execute_result"
    }
   ],
   "source": [
    "df.Skills.str.join(\",\")"
   ]
  },
  {
   "cell_type": "code",
   "execution_count": 65,
   "metadata": {},
   "outputs": [
    {
     "data": {
      "text/plain": [
       "0                      \n",
       "1              Java,C++\n",
       "2    Python,Tableau,SQL\n",
       "3                      \n",
       "4          React,Django\n",
       "5     JavaScript,Python\n",
       "6                 R,SQL\n",
       "7            SQL,Python\n",
       "Name: Skills, dtype: object"
      ]
     },
     "execution_count": 65,
     "metadata": {},
     "output_type": "execute_result"
    }
   ],
   "source": [
    "df.Skills.apply(lambda x: \",\".join(x) if type(x) == list else x)"
   ]
  },
  {
   "cell_type": "code",
   "execution_count": 67,
   "metadata": {},
   "outputs": [
    {
     "data": {
      "text/plain": [
       "['',\n",
       " 'Java,C++',\n",
       " 'Python,Tableau,SQL',\n",
       " '',\n",
       " 'React,Django',\n",
       " 'JavaScript,Python',\n",
       " 'R,SQL',\n",
       " 'SQL,Python']"
      ]
     },
     "execution_count": 67,
     "metadata": {},
     "output_type": "execute_result"
    }
   ],
   "source": [
    "[\",\".join(x) if type(x) == list else x for x in df.Skills]"
   ]
  },
  {
   "cell_type": "code",
   "execution_count": 68,
   "metadata": {},
   "outputs": [
    {
     "data": {
      "text/plain": [
       "0                      \n",
       "1              Java,C++\n",
       "2    Python,Tableau,SQL\n",
       "3                      \n",
       "4          React,Django\n",
       "5     JavaScript,Python\n",
       "6                 R,SQL\n",
       "7            SQL,Python\n",
       "Name: Skills, dtype: object"
      ]
     },
     "execution_count": 68,
     "metadata": {},
     "output_type": "execute_result"
    }
   ],
   "source": [
    "df['Skills'] = [\",\".join(x) if type(x) == list else x for x in df.Skills]\n",
    "df.Skills"
   ]
  },
  {
   "cell_type": "markdown",
   "metadata": {},
   "source": [
    "## Dummy Operation"
   ]
  },
  {
   "cell_type": "markdown",
   "metadata": {},
   "source": [
    "### get_dummies()\n",
    "\n",
    "\n",
    "1. pd.get_dummies(df/df[\"col_name\"])\n",
    "\n",
    "\n",
    "2. df[\"col_name\"].get_dummies(sep = \",\")"
   ]
  },
  {
   "cell_type": "code",
   "execution_count": 69,
   "metadata": {},
   "outputs": [
    {
     "data": {
      "text/plain": [
       "0    HR\n",
       "1    IT\n",
       "2    IT\n",
       "3    HR\n",
       "4    IT\n",
       "5    IT\n",
       "6    IT\n",
       "7    IT\n",
       "Name: department, dtype: object"
      ]
     },
     "execution_count": 69,
     "metadata": {},
     "output_type": "execute_result"
    }
   ],
   "source": [
    "df.department"
   ]
  },
  {
   "cell_type": "code",
   "execution_count": 70,
   "metadata": {},
   "outputs": [
    {
     "data": {
      "text/html": [
       "<div>\n",
       "<style scoped>\n",
       "    .dataframe tbody tr th:only-of-type {\n",
       "        vertical-align: middle;\n",
       "    }\n",
       "\n",
       "    .dataframe tbody tr th {\n",
       "        vertical-align: top;\n",
       "    }\n",
       "\n",
       "    .dataframe thead th {\n",
       "        text-align: right;\n",
       "    }\n",
       "</style>\n",
       "<table border=\"1\" class=\"dataframe\">\n",
       "  <thead>\n",
       "    <tr style=\"text-align: right;\">\n",
       "      <th></th>\n",
       "      <th>HR</th>\n",
       "      <th>IT</th>\n",
       "    </tr>\n",
       "  </thead>\n",
       "  <tbody>\n",
       "    <tr>\n",
       "      <th>0</th>\n",
       "      <td>1</td>\n",
       "      <td>0</td>\n",
       "    </tr>\n",
       "    <tr>\n",
       "      <th>1</th>\n",
       "      <td>0</td>\n",
       "      <td>1</td>\n",
       "    </tr>\n",
       "    <tr>\n",
       "      <th>2</th>\n",
       "      <td>0</td>\n",
       "      <td>1</td>\n",
       "    </tr>\n",
       "    <tr>\n",
       "      <th>3</th>\n",
       "      <td>1</td>\n",
       "      <td>0</td>\n",
       "    </tr>\n",
       "    <tr>\n",
       "      <th>4</th>\n",
       "      <td>0</td>\n",
       "      <td>1</td>\n",
       "    </tr>\n",
       "    <tr>\n",
       "      <th>5</th>\n",
       "      <td>0</td>\n",
       "      <td>1</td>\n",
       "    </tr>\n",
       "    <tr>\n",
       "      <th>6</th>\n",
       "      <td>0</td>\n",
       "      <td>1</td>\n",
       "    </tr>\n",
       "    <tr>\n",
       "      <th>7</th>\n",
       "      <td>0</td>\n",
       "      <td>1</td>\n",
       "    </tr>\n",
       "  </tbody>\n",
       "</table>\n",
       "</div>"
      ],
      "text/plain": [
       "   HR  IT\n",
       "0   1   0\n",
       "1   0   1\n",
       "2   0   1\n",
       "3   1   0\n",
       "4   0   1\n",
       "5   0   1\n",
       "6   0   1\n",
       "7   0   1"
      ]
     },
     "execution_count": 70,
     "metadata": {},
     "output_type": "execute_result"
    }
   ],
   "source": [
    "pd.get_dummies(df.department)"
   ]
  },
  {
   "cell_type": "code",
   "execution_count": 71,
   "metadata": {},
   "outputs": [
    {
     "data": {
      "text/html": [
       "<div>\n",
       "<style scoped>\n",
       "    .dataframe tbody tr th:only-of-type {\n",
       "        vertical-align: middle;\n",
       "    }\n",
       "\n",
       "    .dataframe tbody tr th {\n",
       "        vertical-align: top;\n",
       "    }\n",
       "\n",
       "    .dataframe thead th {\n",
       "        text-align: right;\n",
       "    }\n",
       "</style>\n",
       "<table border=\"1\" class=\"dataframe\">\n",
       "  <thead>\n",
       "    <tr style=\"text-align: right;\">\n",
       "      <th></th>\n",
       "      <th>IT</th>\n",
       "    </tr>\n",
       "  </thead>\n",
       "  <tbody>\n",
       "    <tr>\n",
       "      <th>0</th>\n",
       "      <td>0</td>\n",
       "    </tr>\n",
       "    <tr>\n",
       "      <th>1</th>\n",
       "      <td>1</td>\n",
       "    </tr>\n",
       "    <tr>\n",
       "      <th>2</th>\n",
       "      <td>1</td>\n",
       "    </tr>\n",
       "    <tr>\n",
       "      <th>3</th>\n",
       "      <td>0</td>\n",
       "    </tr>\n",
       "    <tr>\n",
       "      <th>4</th>\n",
       "      <td>1</td>\n",
       "    </tr>\n",
       "    <tr>\n",
       "      <th>5</th>\n",
       "      <td>1</td>\n",
       "    </tr>\n",
       "    <tr>\n",
       "      <th>6</th>\n",
       "      <td>1</td>\n",
       "    </tr>\n",
       "    <tr>\n",
       "      <th>7</th>\n",
       "      <td>1</td>\n",
       "    </tr>\n",
       "  </tbody>\n",
       "</table>\n",
       "</div>"
      ],
      "text/plain": [
       "   IT\n",
       "0   0\n",
       "1   1\n",
       "2   1\n",
       "3   0\n",
       "4   1\n",
       "5   1\n",
       "6   1\n",
       "7   1"
      ]
     },
     "execution_count": 71,
     "metadata": {},
     "output_type": "execute_result"
    }
   ],
   "source": [
    "pd.get_dummies(df.department, drop_first=True)"
   ]
  },
  {
   "cell_type": "code",
   "execution_count": 72,
   "metadata": {},
   "outputs": [
    {
     "data": {
      "text/plain": [
       "0                      \n",
       "1              Java,C++\n",
       "2    Python,Tableau,SQL\n",
       "3                      \n",
       "4          React,Django\n",
       "5     JavaScript,Python\n",
       "6                 R,SQL\n",
       "7            SQL,Python\n",
       "Name: Skills, dtype: object"
      ]
     },
     "execution_count": 72,
     "metadata": {},
     "output_type": "execute_result"
    }
   ],
   "source": [
    "df.Skills"
   ]
  },
  {
   "cell_type": "code",
   "execution_count": 73,
   "metadata": {},
   "outputs": [
    {
     "data": {
      "text/html": [
       "<div>\n",
       "<style scoped>\n",
       "    .dataframe tbody tr th:only-of-type {\n",
       "        vertical-align: middle;\n",
       "    }\n",
       "\n",
       "    .dataframe tbody tr th {\n",
       "        vertical-align: top;\n",
       "    }\n",
       "\n",
       "    .dataframe thead th {\n",
       "        text-align: right;\n",
       "    }\n",
       "</style>\n",
       "<table border=\"1\" class=\"dataframe\">\n",
       "  <thead>\n",
       "    <tr style=\"text-align: right;\">\n",
       "      <th></th>\n",
       "      <th>C++</th>\n",
       "      <th>Django</th>\n",
       "      <th>Java</th>\n",
       "      <th>JavaScript</th>\n",
       "      <th>Python</th>\n",
       "      <th>R</th>\n",
       "      <th>React</th>\n",
       "      <th>SQL</th>\n",
       "      <th>Tableau</th>\n",
       "    </tr>\n",
       "  </thead>\n",
       "  <tbody>\n",
       "    <tr>\n",
       "      <th>0</th>\n",
       "      <td>0</td>\n",
       "      <td>0</td>\n",
       "      <td>0</td>\n",
       "      <td>0</td>\n",
       "      <td>0</td>\n",
       "      <td>0</td>\n",
       "      <td>0</td>\n",
       "      <td>0</td>\n",
       "      <td>0</td>\n",
       "    </tr>\n",
       "    <tr>\n",
       "      <th>1</th>\n",
       "      <td>1</td>\n",
       "      <td>0</td>\n",
       "      <td>1</td>\n",
       "      <td>0</td>\n",
       "      <td>0</td>\n",
       "      <td>0</td>\n",
       "      <td>0</td>\n",
       "      <td>0</td>\n",
       "      <td>0</td>\n",
       "    </tr>\n",
       "    <tr>\n",
       "      <th>2</th>\n",
       "      <td>0</td>\n",
       "      <td>0</td>\n",
       "      <td>0</td>\n",
       "      <td>0</td>\n",
       "      <td>1</td>\n",
       "      <td>0</td>\n",
       "      <td>0</td>\n",
       "      <td>1</td>\n",
       "      <td>1</td>\n",
       "    </tr>\n",
       "    <tr>\n",
       "      <th>3</th>\n",
       "      <td>0</td>\n",
       "      <td>0</td>\n",
       "      <td>0</td>\n",
       "      <td>0</td>\n",
       "      <td>0</td>\n",
       "      <td>0</td>\n",
       "      <td>0</td>\n",
       "      <td>0</td>\n",
       "      <td>0</td>\n",
       "    </tr>\n",
       "    <tr>\n",
       "      <th>4</th>\n",
       "      <td>0</td>\n",
       "      <td>1</td>\n",
       "      <td>0</td>\n",
       "      <td>0</td>\n",
       "      <td>0</td>\n",
       "      <td>0</td>\n",
       "      <td>1</td>\n",
       "      <td>0</td>\n",
       "      <td>0</td>\n",
       "    </tr>\n",
       "    <tr>\n",
       "      <th>5</th>\n",
       "      <td>0</td>\n",
       "      <td>0</td>\n",
       "      <td>0</td>\n",
       "      <td>1</td>\n",
       "      <td>1</td>\n",
       "      <td>0</td>\n",
       "      <td>0</td>\n",
       "      <td>0</td>\n",
       "      <td>0</td>\n",
       "    </tr>\n",
       "    <tr>\n",
       "      <th>6</th>\n",
       "      <td>0</td>\n",
       "      <td>0</td>\n",
       "      <td>0</td>\n",
       "      <td>0</td>\n",
       "      <td>0</td>\n",
       "      <td>1</td>\n",
       "      <td>0</td>\n",
       "      <td>1</td>\n",
       "      <td>0</td>\n",
       "    </tr>\n",
       "    <tr>\n",
       "      <th>7</th>\n",
       "      <td>0</td>\n",
       "      <td>0</td>\n",
       "      <td>0</td>\n",
       "      <td>0</td>\n",
       "      <td>1</td>\n",
       "      <td>0</td>\n",
       "      <td>0</td>\n",
       "      <td>1</td>\n",
       "      <td>0</td>\n",
       "    </tr>\n",
       "  </tbody>\n",
       "</table>\n",
       "</div>"
      ],
      "text/plain": [
       "   C++  Django  Java  JavaScript  Python  R  React  SQL  Tableau\n",
       "0    0       0     0           0       0  0      0    0        0\n",
       "1    1       0     1           0       0  0      0    0        0\n",
       "2    0       0     0           0       1  0      0    1        1\n",
       "3    0       0     0           0       0  0      0    0        0\n",
       "4    0       1     0           0       0  0      1    0        0\n",
       "5    0       0     0           1       1  0      0    0        0\n",
       "6    0       0     0           0       0  1      0    1        0\n",
       "7    0       0     0           0       1  0      0    1        0"
      ]
     },
     "execution_count": 73,
     "metadata": {},
     "output_type": "execute_result"
    }
   ],
   "source": [
    "df.Skills.str.get_dummies(sep=',')"
   ]
  },
  {
   "cell_type": "code",
   "execution_count": 74,
   "metadata": {},
   "outputs": [
    {
     "data": {
      "text/html": [
       "<div>\n",
       "<style scoped>\n",
       "    .dataframe tbody tr th:only-of-type {\n",
       "        vertical-align: middle;\n",
       "    }\n",
       "\n",
       "    .dataframe tbody tr th {\n",
       "        vertical-align: top;\n",
       "    }\n",
       "\n",
       "    .dataframe thead th {\n",
       "        text-align: right;\n",
       "    }\n",
       "</style>\n",
       "<table border=\"1\" class=\"dataframe\">\n",
       "  <thead>\n",
       "    <tr style=\"text-align: right;\">\n",
       "      <th></th>\n",
       "      <th>skills_C++</th>\n",
       "      <th>skills_Django</th>\n",
       "      <th>skills_Java</th>\n",
       "      <th>skills_JavaScript</th>\n",
       "      <th>skills_Python</th>\n",
       "      <th>skills_R</th>\n",
       "      <th>skills_React</th>\n",
       "      <th>skills_SQL</th>\n",
       "      <th>skills_Tableau</th>\n",
       "    </tr>\n",
       "  </thead>\n",
       "  <tbody>\n",
       "    <tr>\n",
       "      <th>0</th>\n",
       "      <td>0</td>\n",
       "      <td>0</td>\n",
       "      <td>0</td>\n",
       "      <td>0</td>\n",
       "      <td>0</td>\n",
       "      <td>0</td>\n",
       "      <td>0</td>\n",
       "      <td>0</td>\n",
       "      <td>0</td>\n",
       "    </tr>\n",
       "    <tr>\n",
       "      <th>1</th>\n",
       "      <td>1</td>\n",
       "      <td>0</td>\n",
       "      <td>1</td>\n",
       "      <td>0</td>\n",
       "      <td>0</td>\n",
       "      <td>0</td>\n",
       "      <td>0</td>\n",
       "      <td>0</td>\n",
       "      <td>0</td>\n",
       "    </tr>\n",
       "    <tr>\n",
       "      <th>2</th>\n",
       "      <td>0</td>\n",
       "      <td>0</td>\n",
       "      <td>0</td>\n",
       "      <td>0</td>\n",
       "      <td>1</td>\n",
       "      <td>0</td>\n",
       "      <td>0</td>\n",
       "      <td>1</td>\n",
       "      <td>1</td>\n",
       "    </tr>\n",
       "    <tr>\n",
       "      <th>3</th>\n",
       "      <td>0</td>\n",
       "      <td>0</td>\n",
       "      <td>0</td>\n",
       "      <td>0</td>\n",
       "      <td>0</td>\n",
       "      <td>0</td>\n",
       "      <td>0</td>\n",
       "      <td>0</td>\n",
       "      <td>0</td>\n",
       "    </tr>\n",
       "    <tr>\n",
       "      <th>4</th>\n",
       "      <td>0</td>\n",
       "      <td>1</td>\n",
       "      <td>0</td>\n",
       "      <td>0</td>\n",
       "      <td>0</td>\n",
       "      <td>0</td>\n",
       "      <td>1</td>\n",
       "      <td>0</td>\n",
       "      <td>0</td>\n",
       "    </tr>\n",
       "    <tr>\n",
       "      <th>5</th>\n",
       "      <td>0</td>\n",
       "      <td>0</td>\n",
       "      <td>0</td>\n",
       "      <td>1</td>\n",
       "      <td>1</td>\n",
       "      <td>0</td>\n",
       "      <td>0</td>\n",
       "      <td>0</td>\n",
       "      <td>0</td>\n",
       "    </tr>\n",
       "    <tr>\n",
       "      <th>6</th>\n",
       "      <td>0</td>\n",
       "      <td>0</td>\n",
       "      <td>0</td>\n",
       "      <td>0</td>\n",
       "      <td>0</td>\n",
       "      <td>1</td>\n",
       "      <td>0</td>\n",
       "      <td>1</td>\n",
       "      <td>0</td>\n",
       "    </tr>\n",
       "    <tr>\n",
       "      <th>7</th>\n",
       "      <td>0</td>\n",
       "      <td>0</td>\n",
       "      <td>0</td>\n",
       "      <td>0</td>\n",
       "      <td>1</td>\n",
       "      <td>0</td>\n",
       "      <td>0</td>\n",
       "      <td>1</td>\n",
       "      <td>0</td>\n",
       "    </tr>\n",
       "  </tbody>\n",
       "</table>\n",
       "</div>"
      ],
      "text/plain": [
       "   skills_C++  skills_Django  skills_Java  skills_JavaScript  skills_Python  \\\n",
       "0           0              0            0                  0              0   \n",
       "1           1              0            1                  0              0   \n",
       "2           0              0            0                  0              1   \n",
       "3           0              0            0                  0              0   \n",
       "4           0              1            0                  0              0   \n",
       "5           0              0            0                  1              1   \n",
       "6           0              0            0                  0              0   \n",
       "7           0              0            0                  0              1   \n",
       "\n",
       "   skills_R  skills_React  skills_SQL  skills_Tableau  \n",
       "0         0             0           0               0  \n",
       "1         0             0           0               0  \n",
       "2         0             0           1               1  \n",
       "3         0             0           0               0  \n",
       "4         0             1           0               0  \n",
       "5         0             0           0               0  \n",
       "6         1             0           1               0  \n",
       "7         0             0           1               0  "
      ]
     },
     "execution_count": 74,
     "metadata": {},
     "output_type": "execute_result"
    }
   ],
   "source": [
    "df.Skills.str.get_dummies(sep=',').add_prefix('skills_')"
   ]
  },
  {
   "cell_type": "code",
   "execution_count": 75,
   "metadata": {},
   "outputs": [],
   "source": [
    "skill_dummy = df.Skills.str.get_dummies(sep=',').add_prefix('skills_')"
   ]
  },
  {
   "cell_type": "code",
   "execution_count": 77,
   "metadata": {},
   "outputs": [
    {
     "data": {
      "text/html": [
       "<div>\n",
       "<style scoped>\n",
       "    .dataframe tbody tr th:only-of-type {\n",
       "        vertical-align: middle;\n",
       "    }\n",
       "\n",
       "    .dataframe tbody tr th {\n",
       "        vertical-align: top;\n",
       "    }\n",
       "\n",
       "    .dataframe thead th {\n",
       "        text-align: right;\n",
       "    }\n",
       "</style>\n",
       "<table border=\"1\" class=\"dataframe\">\n",
       "  <thead>\n",
       "    <tr style=\"text-align: right;\">\n",
       "      <th></th>\n",
       "      <th>id</th>\n",
       "      <th>department</th>\n",
       "      <th>job</th>\n",
       "      <th>salary</th>\n",
       "      <th>Skills</th>\n",
       "    </tr>\n",
       "  </thead>\n",
       "  <tbody>\n",
       "    <tr>\n",
       "      <th>0</th>\n",
       "      <td>M0001</td>\n",
       "      <td>HR</td>\n",
       "      <td>manager</td>\n",
       "      <td>150000.0</td>\n",
       "      <td></td>\n",
       "    </tr>\n",
       "    <tr>\n",
       "      <th>1</th>\n",
       "      <td>M0002</td>\n",
       "      <td>IT</td>\n",
       "      <td>manager</td>\n",
       "      <td>180000.0</td>\n",
       "      <td>Java,C++</td>\n",
       "    </tr>\n",
       "    <tr>\n",
       "      <th>2</th>\n",
       "      <td>E0001</td>\n",
       "      <td>IT</td>\n",
       "      <td>data scientist</td>\n",
       "      <td>150000.0</td>\n",
       "      <td>Python,Tableau,SQL</td>\n",
       "    </tr>\n",
       "    <tr>\n",
       "      <th>3</th>\n",
       "      <td>E0002</td>\n",
       "      <td>HR</td>\n",
       "      <td>recruiter</td>\n",
       "      <td>130000.0</td>\n",
       "      <td></td>\n",
       "    </tr>\n",
       "    <tr>\n",
       "      <th>4</th>\n",
       "      <td>E0003</td>\n",
       "      <td>IT</td>\n",
       "      <td>backend developer</td>\n",
       "      <td>110000.0</td>\n",
       "      <td>React,Django</td>\n",
       "    </tr>\n",
       "    <tr>\n",
       "      <th>5</th>\n",
       "      <td>E0004</td>\n",
       "      <td>IT</td>\n",
       "      <td>frontend developer</td>\n",
       "      <td>120000.0</td>\n",
       "      <td>JavaScript,Python</td>\n",
       "    </tr>\n",
       "    <tr>\n",
       "      <th>6</th>\n",
       "      <td>E0005</td>\n",
       "      <td>IT</td>\n",
       "      <td>data scientist</td>\n",
       "      <td>135000.0</td>\n",
       "      <td>R,SQL</td>\n",
       "    </tr>\n",
       "    <tr>\n",
       "      <th>7</th>\n",
       "      <td>E0006</td>\n",
       "      <td>IT</td>\n",
       "      <td>data scientist</td>\n",
       "      <td>125000.0</td>\n",
       "      <td>SQL,Python</td>\n",
       "    </tr>\n",
       "  </tbody>\n",
       "</table>\n",
       "</div>"
      ],
      "text/plain": [
       "      id department                 job    salary              Skills\n",
       "0  M0001         HR             manager  150000.0                    \n",
       "1  M0002         IT             manager  180000.0            Java,C++\n",
       "2  E0001         IT      data scientist  150000.0  Python,Tableau,SQL\n",
       "3  E0002         HR           recruiter  130000.0                    \n",
       "4  E0003         IT   backend developer  110000.0        React,Django\n",
       "5  E0004         IT  frontend developer  120000.0   JavaScript,Python\n",
       "6  E0005         IT      data scientist  135000.0               R,SQL\n",
       "7  E0006         IT      data scientist  125000.0          SQL,Python"
      ]
     },
     "execution_count": 77,
     "metadata": {},
     "output_type": "execute_result"
    }
   ],
   "source": [
    "df_final = df[['id','department', 'job', 'salary', 'Skills']]\n",
    "df_final"
   ]
  },
  {
   "cell_type": "code",
   "execution_count": 78,
   "metadata": {},
   "outputs": [
    {
     "data": {
      "text/html": [
       "<div>\n",
       "<style scoped>\n",
       "    .dataframe tbody tr th:only-of-type {\n",
       "        vertical-align: middle;\n",
       "    }\n",
       "\n",
       "    .dataframe tbody tr th {\n",
       "        vertical-align: top;\n",
       "    }\n",
       "\n",
       "    .dataframe thead th {\n",
       "        text-align: right;\n",
       "    }\n",
       "</style>\n",
       "<table border=\"1\" class=\"dataframe\">\n",
       "  <thead>\n",
       "    <tr style=\"text-align: right;\">\n",
       "      <th></th>\n",
       "      <th>id</th>\n",
       "      <th>department</th>\n",
       "      <th>job</th>\n",
       "      <th>salary</th>\n",
       "      <th>Skills</th>\n",
       "      <th>skills_C++</th>\n",
       "      <th>skills_Django</th>\n",
       "      <th>skills_Java</th>\n",
       "      <th>skills_JavaScript</th>\n",
       "      <th>skills_Python</th>\n",
       "      <th>skills_R</th>\n",
       "      <th>skills_React</th>\n",
       "      <th>skills_SQL</th>\n",
       "      <th>skills_Tableau</th>\n",
       "    </tr>\n",
       "  </thead>\n",
       "  <tbody>\n",
       "    <tr>\n",
       "      <th>0</th>\n",
       "      <td>M0001</td>\n",
       "      <td>HR</td>\n",
       "      <td>manager</td>\n",
       "      <td>150000.0</td>\n",
       "      <td></td>\n",
       "      <td>0</td>\n",
       "      <td>0</td>\n",
       "      <td>0</td>\n",
       "      <td>0</td>\n",
       "      <td>0</td>\n",
       "      <td>0</td>\n",
       "      <td>0</td>\n",
       "      <td>0</td>\n",
       "      <td>0</td>\n",
       "    </tr>\n",
       "    <tr>\n",
       "      <th>1</th>\n",
       "      <td>M0002</td>\n",
       "      <td>IT</td>\n",
       "      <td>manager</td>\n",
       "      <td>180000.0</td>\n",
       "      <td>Java,C++</td>\n",
       "      <td>1</td>\n",
       "      <td>0</td>\n",
       "      <td>1</td>\n",
       "      <td>0</td>\n",
       "      <td>0</td>\n",
       "      <td>0</td>\n",
       "      <td>0</td>\n",
       "      <td>0</td>\n",
       "      <td>0</td>\n",
       "    </tr>\n",
       "    <tr>\n",
       "      <th>2</th>\n",
       "      <td>E0001</td>\n",
       "      <td>IT</td>\n",
       "      <td>data scientist</td>\n",
       "      <td>150000.0</td>\n",
       "      <td>Python,Tableau,SQL</td>\n",
       "      <td>0</td>\n",
       "      <td>0</td>\n",
       "      <td>0</td>\n",
       "      <td>0</td>\n",
       "      <td>1</td>\n",
       "      <td>0</td>\n",
       "      <td>0</td>\n",
       "      <td>1</td>\n",
       "      <td>1</td>\n",
       "    </tr>\n",
       "    <tr>\n",
       "      <th>3</th>\n",
       "      <td>E0002</td>\n",
       "      <td>HR</td>\n",
       "      <td>recruiter</td>\n",
       "      <td>130000.0</td>\n",
       "      <td></td>\n",
       "      <td>0</td>\n",
       "      <td>0</td>\n",
       "      <td>0</td>\n",
       "      <td>0</td>\n",
       "      <td>0</td>\n",
       "      <td>0</td>\n",
       "      <td>0</td>\n",
       "      <td>0</td>\n",
       "      <td>0</td>\n",
       "    </tr>\n",
       "    <tr>\n",
       "      <th>4</th>\n",
       "      <td>E0003</td>\n",
       "      <td>IT</td>\n",
       "      <td>backend developer</td>\n",
       "      <td>110000.0</td>\n",
       "      <td>React,Django</td>\n",
       "      <td>0</td>\n",
       "      <td>1</td>\n",
       "      <td>0</td>\n",
       "      <td>0</td>\n",
       "      <td>0</td>\n",
       "      <td>0</td>\n",
       "      <td>1</td>\n",
       "      <td>0</td>\n",
       "      <td>0</td>\n",
       "    </tr>\n",
       "    <tr>\n",
       "      <th>5</th>\n",
       "      <td>E0004</td>\n",
       "      <td>IT</td>\n",
       "      <td>frontend developer</td>\n",
       "      <td>120000.0</td>\n",
       "      <td>JavaScript,Python</td>\n",
       "      <td>0</td>\n",
       "      <td>0</td>\n",
       "      <td>0</td>\n",
       "      <td>1</td>\n",
       "      <td>1</td>\n",
       "      <td>0</td>\n",
       "      <td>0</td>\n",
       "      <td>0</td>\n",
       "      <td>0</td>\n",
       "    </tr>\n",
       "    <tr>\n",
       "      <th>6</th>\n",
       "      <td>E0005</td>\n",
       "      <td>IT</td>\n",
       "      <td>data scientist</td>\n",
       "      <td>135000.0</td>\n",
       "      <td>R,SQL</td>\n",
       "      <td>0</td>\n",
       "      <td>0</td>\n",
       "      <td>0</td>\n",
       "      <td>0</td>\n",
       "      <td>0</td>\n",
       "      <td>1</td>\n",
       "      <td>0</td>\n",
       "      <td>1</td>\n",
       "      <td>0</td>\n",
       "    </tr>\n",
       "    <tr>\n",
       "      <th>7</th>\n",
       "      <td>E0006</td>\n",
       "      <td>IT</td>\n",
       "      <td>data scientist</td>\n",
       "      <td>125000.0</td>\n",
       "      <td>SQL,Python</td>\n",
       "      <td>0</td>\n",
       "      <td>0</td>\n",
       "      <td>0</td>\n",
       "      <td>0</td>\n",
       "      <td>1</td>\n",
       "      <td>0</td>\n",
       "      <td>0</td>\n",
       "      <td>1</td>\n",
       "      <td>0</td>\n",
       "    </tr>\n",
       "  </tbody>\n",
       "</table>\n",
       "</div>"
      ],
      "text/plain": [
       "      id department                 job    salary              Skills  \\\n",
       "0  M0001         HR             manager  150000.0                       \n",
       "1  M0002         IT             manager  180000.0            Java,C++   \n",
       "2  E0001         IT      data scientist  150000.0  Python,Tableau,SQL   \n",
       "3  E0002         HR           recruiter  130000.0                       \n",
       "4  E0003         IT   backend developer  110000.0        React,Django   \n",
       "5  E0004         IT  frontend developer  120000.0   JavaScript,Python   \n",
       "6  E0005         IT      data scientist  135000.0               R,SQL   \n",
       "7  E0006         IT      data scientist  125000.0          SQL,Python   \n",
       "\n",
       "   skills_C++  skills_Django  skills_Java  skills_JavaScript  skills_Python  \\\n",
       "0           0              0            0                  0              0   \n",
       "1           1              0            1                  0              0   \n",
       "2           0              0            0                  0              1   \n",
       "3           0              0            0                  0              0   \n",
       "4           0              1            0                  0              0   \n",
       "5           0              0            0                  1              1   \n",
       "6           0              0            0                  0              0   \n",
       "7           0              0            0                  0              1   \n",
       "\n",
       "   skills_R  skills_React  skills_SQL  skills_Tableau  \n",
       "0         0             0           0               0  \n",
       "1         0             0           0               0  \n",
       "2         0             0           1               1  \n",
       "3         0             0           0               0  \n",
       "4         0             1           0               0  \n",
       "5         0             0           0               0  \n",
       "6         1             0           1               0  \n",
       "7         0             0           1               0  "
      ]
     },
     "execution_count": 78,
     "metadata": {},
     "output_type": "execute_result"
    }
   ],
   "source": [
    "df_final.join(skill_dummy)"
   ]
  },
  {
   "cell_type": "code",
   "execution_count": 79,
   "metadata": {},
   "outputs": [],
   "source": [
    "df_final = df_final.join(skill_dummy)"
   ]
  },
  {
   "cell_type": "code",
   "execution_count": 80,
   "metadata": {},
   "outputs": [],
   "source": [
    "df_final.drop('Skills', inplace=True, axis=1)"
   ]
  },
  {
   "cell_type": "code",
   "execution_count": 81,
   "metadata": {},
   "outputs": [
    {
     "data": {
      "text/html": [
       "<div>\n",
       "<style scoped>\n",
       "    .dataframe tbody tr th:only-of-type {\n",
       "        vertical-align: middle;\n",
       "    }\n",
       "\n",
       "    .dataframe tbody tr th {\n",
       "        vertical-align: top;\n",
       "    }\n",
       "\n",
       "    .dataframe thead th {\n",
       "        text-align: right;\n",
       "    }\n",
       "</style>\n",
       "<table border=\"1\" class=\"dataframe\">\n",
       "  <thead>\n",
       "    <tr style=\"text-align: right;\">\n",
       "      <th></th>\n",
       "      <th>id</th>\n",
       "      <th>department</th>\n",
       "      <th>job</th>\n",
       "      <th>salary</th>\n",
       "      <th>skills_C++</th>\n",
       "      <th>skills_Django</th>\n",
       "      <th>skills_Java</th>\n",
       "      <th>skills_JavaScript</th>\n",
       "      <th>skills_Python</th>\n",
       "      <th>skills_R</th>\n",
       "      <th>skills_React</th>\n",
       "      <th>skills_SQL</th>\n",
       "      <th>skills_Tableau</th>\n",
       "    </tr>\n",
       "  </thead>\n",
       "  <tbody>\n",
       "    <tr>\n",
       "      <th>0</th>\n",
       "      <td>M0001</td>\n",
       "      <td>HR</td>\n",
       "      <td>manager</td>\n",
       "      <td>150000.0</td>\n",
       "      <td>0</td>\n",
       "      <td>0</td>\n",
       "      <td>0</td>\n",
       "      <td>0</td>\n",
       "      <td>0</td>\n",
       "      <td>0</td>\n",
       "      <td>0</td>\n",
       "      <td>0</td>\n",
       "      <td>0</td>\n",
       "    </tr>\n",
       "    <tr>\n",
       "      <th>1</th>\n",
       "      <td>M0002</td>\n",
       "      <td>IT</td>\n",
       "      <td>manager</td>\n",
       "      <td>180000.0</td>\n",
       "      <td>1</td>\n",
       "      <td>0</td>\n",
       "      <td>1</td>\n",
       "      <td>0</td>\n",
       "      <td>0</td>\n",
       "      <td>0</td>\n",
       "      <td>0</td>\n",
       "      <td>0</td>\n",
       "      <td>0</td>\n",
       "    </tr>\n",
       "    <tr>\n",
       "      <th>2</th>\n",
       "      <td>E0001</td>\n",
       "      <td>IT</td>\n",
       "      <td>data scientist</td>\n",
       "      <td>150000.0</td>\n",
       "      <td>0</td>\n",
       "      <td>0</td>\n",
       "      <td>0</td>\n",
       "      <td>0</td>\n",
       "      <td>1</td>\n",
       "      <td>0</td>\n",
       "      <td>0</td>\n",
       "      <td>1</td>\n",
       "      <td>1</td>\n",
       "    </tr>\n",
       "    <tr>\n",
       "      <th>3</th>\n",
       "      <td>E0002</td>\n",
       "      <td>HR</td>\n",
       "      <td>recruiter</td>\n",
       "      <td>130000.0</td>\n",
       "      <td>0</td>\n",
       "      <td>0</td>\n",
       "      <td>0</td>\n",
       "      <td>0</td>\n",
       "      <td>0</td>\n",
       "      <td>0</td>\n",
       "      <td>0</td>\n",
       "      <td>0</td>\n",
       "      <td>0</td>\n",
       "    </tr>\n",
       "    <tr>\n",
       "      <th>4</th>\n",
       "      <td>E0003</td>\n",
       "      <td>IT</td>\n",
       "      <td>backend developer</td>\n",
       "      <td>110000.0</td>\n",
       "      <td>0</td>\n",
       "      <td>1</td>\n",
       "      <td>0</td>\n",
       "      <td>0</td>\n",
       "      <td>0</td>\n",
       "      <td>0</td>\n",
       "      <td>1</td>\n",
       "      <td>0</td>\n",
       "      <td>0</td>\n",
       "    </tr>\n",
       "    <tr>\n",
       "      <th>5</th>\n",
       "      <td>E0004</td>\n",
       "      <td>IT</td>\n",
       "      <td>frontend developer</td>\n",
       "      <td>120000.0</td>\n",
       "      <td>0</td>\n",
       "      <td>0</td>\n",
       "      <td>0</td>\n",
       "      <td>1</td>\n",
       "      <td>1</td>\n",
       "      <td>0</td>\n",
       "      <td>0</td>\n",
       "      <td>0</td>\n",
       "      <td>0</td>\n",
       "    </tr>\n",
       "    <tr>\n",
       "      <th>6</th>\n",
       "      <td>E0005</td>\n",
       "      <td>IT</td>\n",
       "      <td>data scientist</td>\n",
       "      <td>135000.0</td>\n",
       "      <td>0</td>\n",
       "      <td>0</td>\n",
       "      <td>0</td>\n",
       "      <td>0</td>\n",
       "      <td>0</td>\n",
       "      <td>1</td>\n",
       "      <td>0</td>\n",
       "      <td>1</td>\n",
       "      <td>0</td>\n",
       "    </tr>\n",
       "    <tr>\n",
       "      <th>7</th>\n",
       "      <td>E0006</td>\n",
       "      <td>IT</td>\n",
       "      <td>data scientist</td>\n",
       "      <td>125000.0</td>\n",
       "      <td>0</td>\n",
       "      <td>0</td>\n",
       "      <td>0</td>\n",
       "      <td>0</td>\n",
       "      <td>1</td>\n",
       "      <td>0</td>\n",
       "      <td>0</td>\n",
       "      <td>1</td>\n",
       "      <td>0</td>\n",
       "    </tr>\n",
       "  </tbody>\n",
       "</table>\n",
       "</div>"
      ],
      "text/plain": [
       "      id department                 job    salary  skills_C++  skills_Django  \\\n",
       "0  M0001         HR             manager  150000.0           0              0   \n",
       "1  M0002         IT             manager  180000.0           1              0   \n",
       "2  E0001         IT      data scientist  150000.0           0              0   \n",
       "3  E0002         HR           recruiter  130000.0           0              0   \n",
       "4  E0003         IT   backend developer  110000.0           0              1   \n",
       "5  E0004         IT  frontend developer  120000.0           0              0   \n",
       "6  E0005         IT      data scientist  135000.0           0              0   \n",
       "7  E0006         IT      data scientist  125000.0           0              0   \n",
       "\n",
       "   skills_Java  skills_JavaScript  skills_Python  skills_R  skills_React  \\\n",
       "0            0                  0              0         0             0   \n",
       "1            1                  0              0         0             0   \n",
       "2            0                  0              1         0             0   \n",
       "3            0                  0              0         0             0   \n",
       "4            0                  0              0         0             1   \n",
       "5            0                  1              1         0             0   \n",
       "6            0                  0              0         1             0   \n",
       "7            0                  0              1         0             0   \n",
       "\n",
       "   skills_SQL  skills_Tableau  \n",
       "0           0               0  \n",
       "1           0               0  \n",
       "2           1               1  \n",
       "3           0               0  \n",
       "4           0               0  \n",
       "5           0               0  \n",
       "6           1               0  \n",
       "7           1               0  "
      ]
     },
     "execution_count": 81,
     "metadata": {},
     "output_type": "execute_result"
    }
   ],
   "source": [
    "df_final"
   ]
  },
  {
   "cell_type": "code",
   "execution_count": 82,
   "metadata": {},
   "outputs": [
    {
     "data": {
      "text/html": [
       "<div>\n",
       "<style scoped>\n",
       "    .dataframe tbody tr th:only-of-type {\n",
       "        vertical-align: middle;\n",
       "    }\n",
       "\n",
       "    .dataframe tbody tr th {\n",
       "        vertical-align: top;\n",
       "    }\n",
       "\n",
       "    .dataframe thead th {\n",
       "        text-align: right;\n",
       "    }\n",
       "</style>\n",
       "<table border=\"1\" class=\"dataframe\">\n",
       "  <thead>\n",
       "    <tr style=\"text-align: right;\">\n",
       "      <th></th>\n",
       "      <th>department</th>\n",
       "      <th>job</th>\n",
       "      <th>salary</th>\n",
       "      <th>skills_C++</th>\n",
       "      <th>skills_Django</th>\n",
       "      <th>skills_Java</th>\n",
       "      <th>skills_JavaScript</th>\n",
       "      <th>skills_Python</th>\n",
       "      <th>skills_R</th>\n",
       "      <th>skills_React</th>\n",
       "      <th>skills_SQL</th>\n",
       "      <th>skills_Tableau</th>\n",
       "    </tr>\n",
       "  </thead>\n",
       "  <tbody>\n",
       "    <tr>\n",
       "      <th>0</th>\n",
       "      <td>HR</td>\n",
       "      <td>manager</td>\n",
       "      <td>150000.0</td>\n",
       "      <td>0</td>\n",
       "      <td>0</td>\n",
       "      <td>0</td>\n",
       "      <td>0</td>\n",
       "      <td>0</td>\n",
       "      <td>0</td>\n",
       "      <td>0</td>\n",
       "      <td>0</td>\n",
       "      <td>0</td>\n",
       "    </tr>\n",
       "    <tr>\n",
       "      <th>1</th>\n",
       "      <td>IT</td>\n",
       "      <td>manager</td>\n",
       "      <td>180000.0</td>\n",
       "      <td>1</td>\n",
       "      <td>0</td>\n",
       "      <td>1</td>\n",
       "      <td>0</td>\n",
       "      <td>0</td>\n",
       "      <td>0</td>\n",
       "      <td>0</td>\n",
       "      <td>0</td>\n",
       "      <td>0</td>\n",
       "    </tr>\n",
       "    <tr>\n",
       "      <th>2</th>\n",
       "      <td>IT</td>\n",
       "      <td>data scientist</td>\n",
       "      <td>150000.0</td>\n",
       "      <td>0</td>\n",
       "      <td>0</td>\n",
       "      <td>0</td>\n",
       "      <td>0</td>\n",
       "      <td>1</td>\n",
       "      <td>0</td>\n",
       "      <td>0</td>\n",
       "      <td>1</td>\n",
       "      <td>1</td>\n",
       "    </tr>\n",
       "    <tr>\n",
       "      <th>3</th>\n",
       "      <td>HR</td>\n",
       "      <td>recruiter</td>\n",
       "      <td>130000.0</td>\n",
       "      <td>0</td>\n",
       "      <td>0</td>\n",
       "      <td>0</td>\n",
       "      <td>0</td>\n",
       "      <td>0</td>\n",
       "      <td>0</td>\n",
       "      <td>0</td>\n",
       "      <td>0</td>\n",
       "      <td>0</td>\n",
       "    </tr>\n",
       "    <tr>\n",
       "      <th>4</th>\n",
       "      <td>IT</td>\n",
       "      <td>backend developer</td>\n",
       "      <td>110000.0</td>\n",
       "      <td>0</td>\n",
       "      <td>1</td>\n",
       "      <td>0</td>\n",
       "      <td>0</td>\n",
       "      <td>0</td>\n",
       "      <td>0</td>\n",
       "      <td>1</td>\n",
       "      <td>0</td>\n",
       "      <td>0</td>\n",
       "    </tr>\n",
       "    <tr>\n",
       "      <th>5</th>\n",
       "      <td>IT</td>\n",
       "      <td>frontend developer</td>\n",
       "      <td>120000.0</td>\n",
       "      <td>0</td>\n",
       "      <td>0</td>\n",
       "      <td>0</td>\n",
       "      <td>1</td>\n",
       "      <td>1</td>\n",
       "      <td>0</td>\n",
       "      <td>0</td>\n",
       "      <td>0</td>\n",
       "      <td>0</td>\n",
       "    </tr>\n",
       "    <tr>\n",
       "      <th>6</th>\n",
       "      <td>IT</td>\n",
       "      <td>data scientist</td>\n",
       "      <td>135000.0</td>\n",
       "      <td>0</td>\n",
       "      <td>0</td>\n",
       "      <td>0</td>\n",
       "      <td>0</td>\n",
       "      <td>0</td>\n",
       "      <td>1</td>\n",
       "      <td>0</td>\n",
       "      <td>1</td>\n",
       "      <td>0</td>\n",
       "    </tr>\n",
       "    <tr>\n",
       "      <th>7</th>\n",
       "      <td>IT</td>\n",
       "      <td>data scientist</td>\n",
       "      <td>125000.0</td>\n",
       "      <td>0</td>\n",
       "      <td>0</td>\n",
       "      <td>0</td>\n",
       "      <td>0</td>\n",
       "      <td>1</td>\n",
       "      <td>0</td>\n",
       "      <td>0</td>\n",
       "      <td>1</td>\n",
       "      <td>0</td>\n",
       "    </tr>\n",
       "  </tbody>\n",
       "</table>\n",
       "</div>"
      ],
      "text/plain": [
       "  department                 job    salary  skills_C++  skills_Django  \\\n",
       "0         HR             manager  150000.0           0              0   \n",
       "1         IT             manager  180000.0           1              0   \n",
       "2         IT      data scientist  150000.0           0              0   \n",
       "3         HR           recruiter  130000.0           0              0   \n",
       "4         IT   backend developer  110000.0           0              1   \n",
       "5         IT  frontend developer  120000.0           0              0   \n",
       "6         IT      data scientist  135000.0           0              0   \n",
       "7         IT      data scientist  125000.0           0              0   \n",
       "\n",
       "   skills_Java  skills_JavaScript  skills_Python  skills_R  skills_React  \\\n",
       "0            0                  0              0         0             0   \n",
       "1            1                  0              0         0             0   \n",
       "2            0                  0              1         0             0   \n",
       "3            0                  0              0         0             0   \n",
       "4            0                  0              0         0             1   \n",
       "5            0                  1              1         0             0   \n",
       "6            0                  0              0         1             0   \n",
       "7            0                  0              1         0             0   \n",
       "\n",
       "   skills_SQL  skills_Tableau  \n",
       "0           0               0  \n",
       "1           0               0  \n",
       "2           1               1  \n",
       "3           0               0  \n",
       "4           0               0  \n",
       "5           0               0  \n",
       "6           1               0  \n",
       "7           1               0  "
      ]
     },
     "execution_count": 82,
     "metadata": {},
     "output_type": "execute_result"
    }
   ],
   "source": [
    "df_final.drop('id', axis=1, inplace=True)\n",
    "df_final"
   ]
  },
  {
   "cell_type": "code",
   "execution_count": 84,
   "metadata": {},
   "outputs": [
    {
     "data": {
      "text/html": [
       "<div>\n",
       "<style scoped>\n",
       "    .dataframe tbody tr th:only-of-type {\n",
       "        vertical-align: middle;\n",
       "    }\n",
       "\n",
       "    .dataframe tbody tr th {\n",
       "        vertical-align: top;\n",
       "    }\n",
       "\n",
       "    .dataframe thead th {\n",
       "        text-align: right;\n",
       "    }\n",
       "</style>\n",
       "<table border=\"1\" class=\"dataframe\">\n",
       "  <thead>\n",
       "    <tr style=\"text-align: right;\">\n",
       "      <th></th>\n",
       "      <th>0</th>\n",
       "      <th>1</th>\n",
       "      <th>2</th>\n",
       "      <th>3</th>\n",
       "      <th>4</th>\n",
       "      <th>5</th>\n",
       "      <th>6</th>\n",
       "      <th>7</th>\n",
       "    </tr>\n",
       "  </thead>\n",
       "  <tbody>\n",
       "    <tr>\n",
       "      <th>salary</th>\n",
       "      <td>150000.0</td>\n",
       "      <td>180000.0</td>\n",
       "      <td>150000.0</td>\n",
       "      <td>130000.0</td>\n",
       "      <td>110000.0</td>\n",
       "      <td>120000.0</td>\n",
       "      <td>135000.0</td>\n",
       "      <td>125000.0</td>\n",
       "    </tr>\n",
       "    <tr>\n",
       "      <th>skills_C++</th>\n",
       "      <td>0.0</td>\n",
       "      <td>1.0</td>\n",
       "      <td>0.0</td>\n",
       "      <td>0.0</td>\n",
       "      <td>0.0</td>\n",
       "      <td>0.0</td>\n",
       "      <td>0.0</td>\n",
       "      <td>0.0</td>\n",
       "    </tr>\n",
       "    <tr>\n",
       "      <th>skills_Django</th>\n",
       "      <td>0.0</td>\n",
       "      <td>0.0</td>\n",
       "      <td>0.0</td>\n",
       "      <td>0.0</td>\n",
       "      <td>1.0</td>\n",
       "      <td>0.0</td>\n",
       "      <td>0.0</td>\n",
       "      <td>0.0</td>\n",
       "    </tr>\n",
       "    <tr>\n",
       "      <th>skills_Java</th>\n",
       "      <td>0.0</td>\n",
       "      <td>1.0</td>\n",
       "      <td>0.0</td>\n",
       "      <td>0.0</td>\n",
       "      <td>0.0</td>\n",
       "      <td>0.0</td>\n",
       "      <td>0.0</td>\n",
       "      <td>0.0</td>\n",
       "    </tr>\n",
       "    <tr>\n",
       "      <th>skills_JavaScript</th>\n",
       "      <td>0.0</td>\n",
       "      <td>0.0</td>\n",
       "      <td>0.0</td>\n",
       "      <td>0.0</td>\n",
       "      <td>0.0</td>\n",
       "      <td>1.0</td>\n",
       "      <td>0.0</td>\n",
       "      <td>0.0</td>\n",
       "    </tr>\n",
       "    <tr>\n",
       "      <th>skills_Python</th>\n",
       "      <td>0.0</td>\n",
       "      <td>0.0</td>\n",
       "      <td>1.0</td>\n",
       "      <td>0.0</td>\n",
       "      <td>0.0</td>\n",
       "      <td>1.0</td>\n",
       "      <td>0.0</td>\n",
       "      <td>1.0</td>\n",
       "    </tr>\n",
       "    <tr>\n",
       "      <th>skills_R</th>\n",
       "      <td>0.0</td>\n",
       "      <td>0.0</td>\n",
       "      <td>0.0</td>\n",
       "      <td>0.0</td>\n",
       "      <td>0.0</td>\n",
       "      <td>0.0</td>\n",
       "      <td>1.0</td>\n",
       "      <td>0.0</td>\n",
       "    </tr>\n",
       "    <tr>\n",
       "      <th>skills_React</th>\n",
       "      <td>0.0</td>\n",
       "      <td>0.0</td>\n",
       "      <td>0.0</td>\n",
       "      <td>0.0</td>\n",
       "      <td>1.0</td>\n",
       "      <td>0.0</td>\n",
       "      <td>0.0</td>\n",
       "      <td>0.0</td>\n",
       "    </tr>\n",
       "    <tr>\n",
       "      <th>skills_SQL</th>\n",
       "      <td>0.0</td>\n",
       "      <td>0.0</td>\n",
       "      <td>1.0</td>\n",
       "      <td>0.0</td>\n",
       "      <td>0.0</td>\n",
       "      <td>0.0</td>\n",
       "      <td>1.0</td>\n",
       "      <td>1.0</td>\n",
       "    </tr>\n",
       "    <tr>\n",
       "      <th>skills_Tableau</th>\n",
       "      <td>0.0</td>\n",
       "      <td>0.0</td>\n",
       "      <td>1.0</td>\n",
       "      <td>0.0</td>\n",
       "      <td>0.0</td>\n",
       "      <td>0.0</td>\n",
       "      <td>0.0</td>\n",
       "      <td>0.0</td>\n",
       "    </tr>\n",
       "    <tr>\n",
       "      <th>department_HR</th>\n",
       "      <td>1.0</td>\n",
       "      <td>0.0</td>\n",
       "      <td>0.0</td>\n",
       "      <td>1.0</td>\n",
       "      <td>0.0</td>\n",
       "      <td>0.0</td>\n",
       "      <td>0.0</td>\n",
       "      <td>0.0</td>\n",
       "    </tr>\n",
       "    <tr>\n",
       "      <th>department_IT</th>\n",
       "      <td>0.0</td>\n",
       "      <td>1.0</td>\n",
       "      <td>1.0</td>\n",
       "      <td>0.0</td>\n",
       "      <td>1.0</td>\n",
       "      <td>1.0</td>\n",
       "      <td>1.0</td>\n",
       "      <td>1.0</td>\n",
       "    </tr>\n",
       "    <tr>\n",
       "      <th>job_backend developer</th>\n",
       "      <td>0.0</td>\n",
       "      <td>0.0</td>\n",
       "      <td>0.0</td>\n",
       "      <td>0.0</td>\n",
       "      <td>1.0</td>\n",
       "      <td>0.0</td>\n",
       "      <td>0.0</td>\n",
       "      <td>0.0</td>\n",
       "    </tr>\n",
       "    <tr>\n",
       "      <th>job_data scientist</th>\n",
       "      <td>0.0</td>\n",
       "      <td>0.0</td>\n",
       "      <td>1.0</td>\n",
       "      <td>0.0</td>\n",
       "      <td>0.0</td>\n",
       "      <td>0.0</td>\n",
       "      <td>1.0</td>\n",
       "      <td>1.0</td>\n",
       "    </tr>\n",
       "    <tr>\n",
       "      <th>job_frontend developer</th>\n",
       "      <td>0.0</td>\n",
       "      <td>0.0</td>\n",
       "      <td>0.0</td>\n",
       "      <td>0.0</td>\n",
       "      <td>0.0</td>\n",
       "      <td>1.0</td>\n",
       "      <td>0.0</td>\n",
       "      <td>0.0</td>\n",
       "    </tr>\n",
       "    <tr>\n",
       "      <th>job_manager</th>\n",
       "      <td>1.0</td>\n",
       "      <td>1.0</td>\n",
       "      <td>0.0</td>\n",
       "      <td>0.0</td>\n",
       "      <td>0.0</td>\n",
       "      <td>0.0</td>\n",
       "      <td>0.0</td>\n",
       "      <td>0.0</td>\n",
       "    </tr>\n",
       "    <tr>\n",
       "      <th>job_recruiter</th>\n",
       "      <td>0.0</td>\n",
       "      <td>0.0</td>\n",
       "      <td>0.0</td>\n",
       "      <td>1.0</td>\n",
       "      <td>0.0</td>\n",
       "      <td>0.0</td>\n",
       "      <td>0.0</td>\n",
       "      <td>0.0</td>\n",
       "    </tr>\n",
       "  </tbody>\n",
       "</table>\n",
       "</div>"
      ],
      "text/plain": [
       "                               0         1         2         3         4  \\\n",
       "salary                  150000.0  180000.0  150000.0  130000.0  110000.0   \n",
       "skills_C++                   0.0       1.0       0.0       0.0       0.0   \n",
       "skills_Django                0.0       0.0       0.0       0.0       1.0   \n",
       "skills_Java                  0.0       1.0       0.0       0.0       0.0   \n",
       "skills_JavaScript            0.0       0.0       0.0       0.0       0.0   \n",
       "skills_Python                0.0       0.0       1.0       0.0       0.0   \n",
       "skills_R                     0.0       0.0       0.0       0.0       0.0   \n",
       "skills_React                 0.0       0.0       0.0       0.0       1.0   \n",
       "skills_SQL                   0.0       0.0       1.0       0.0       0.0   \n",
       "skills_Tableau               0.0       0.0       1.0       0.0       0.0   \n",
       "department_HR                1.0       0.0       0.0       1.0       0.0   \n",
       "department_IT                0.0       1.0       1.0       0.0       1.0   \n",
       "job_backend developer        0.0       0.0       0.0       0.0       1.0   \n",
       "job_data scientist           0.0       0.0       1.0       0.0       0.0   \n",
       "job_frontend developer       0.0       0.0       0.0       0.0       0.0   \n",
       "job_manager                  1.0       1.0       0.0       0.0       0.0   \n",
       "job_recruiter                0.0       0.0       0.0       1.0       0.0   \n",
       "\n",
       "                               5         6         7  \n",
       "salary                  120000.0  135000.0  125000.0  \n",
       "skills_C++                   0.0       0.0       0.0  \n",
       "skills_Django                0.0       0.0       0.0  \n",
       "skills_Java                  0.0       0.0       0.0  \n",
       "skills_JavaScript            1.0       0.0       0.0  \n",
       "skills_Python                1.0       0.0       1.0  \n",
       "skills_R                     0.0       1.0       0.0  \n",
       "skills_React                 0.0       0.0       0.0  \n",
       "skills_SQL                   0.0       1.0       1.0  \n",
       "skills_Tableau               0.0       0.0       0.0  \n",
       "department_HR                0.0       0.0       0.0  \n",
       "department_IT                1.0       1.0       1.0  \n",
       "job_backend developer        0.0       0.0       0.0  \n",
       "job_data scientist           0.0       1.0       1.0  \n",
       "job_frontend developer       1.0       0.0       0.0  \n",
       "job_manager                  0.0       0.0       0.0  \n",
       "job_recruiter                0.0       0.0       0.0  "
      ]
     },
     "execution_count": 84,
     "metadata": {},
     "output_type": "execute_result"
    }
   ],
   "source": [
    "pd.get_dummies(df_final).T"
   ]
  },
  {
   "cell_type": "code",
   "execution_count": 86,
   "metadata": {},
   "outputs": [
    {
     "data": {
      "text/html": [
       "<div>\n",
       "<style scoped>\n",
       "    .dataframe tbody tr th:only-of-type {\n",
       "        vertical-align: middle;\n",
       "    }\n",
       "\n",
       "    .dataframe tbody tr th {\n",
       "        vertical-align: top;\n",
       "    }\n",
       "\n",
       "    .dataframe thead th {\n",
       "        text-align: right;\n",
       "    }\n",
       "</style>\n",
       "<table border=\"1\" class=\"dataframe\">\n",
       "  <thead>\n",
       "    <tr style=\"text-align: right;\">\n",
       "      <th></th>\n",
       "      <th>0</th>\n",
       "      <th>1</th>\n",
       "      <th>2</th>\n",
       "      <th>3</th>\n",
       "      <th>4</th>\n",
       "      <th>5</th>\n",
       "      <th>6</th>\n",
       "      <th>7</th>\n",
       "    </tr>\n",
       "  </thead>\n",
       "  <tbody>\n",
       "    <tr>\n",
       "      <th>salary</th>\n",
       "      <td>150000.0</td>\n",
       "      <td>180000.0</td>\n",
       "      <td>150000.0</td>\n",
       "      <td>130000.0</td>\n",
       "      <td>110000.0</td>\n",
       "      <td>120000.0</td>\n",
       "      <td>135000.0</td>\n",
       "      <td>125000.0</td>\n",
       "    </tr>\n",
       "    <tr>\n",
       "      <th>skills_C++</th>\n",
       "      <td>0.0</td>\n",
       "      <td>1.0</td>\n",
       "      <td>0.0</td>\n",
       "      <td>0.0</td>\n",
       "      <td>0.0</td>\n",
       "      <td>0.0</td>\n",
       "      <td>0.0</td>\n",
       "      <td>0.0</td>\n",
       "    </tr>\n",
       "    <tr>\n",
       "      <th>skills_Django</th>\n",
       "      <td>0.0</td>\n",
       "      <td>0.0</td>\n",
       "      <td>0.0</td>\n",
       "      <td>0.0</td>\n",
       "      <td>1.0</td>\n",
       "      <td>0.0</td>\n",
       "      <td>0.0</td>\n",
       "      <td>0.0</td>\n",
       "    </tr>\n",
       "    <tr>\n",
       "      <th>skills_Java</th>\n",
       "      <td>0.0</td>\n",
       "      <td>1.0</td>\n",
       "      <td>0.0</td>\n",
       "      <td>0.0</td>\n",
       "      <td>0.0</td>\n",
       "      <td>0.0</td>\n",
       "      <td>0.0</td>\n",
       "      <td>0.0</td>\n",
       "    </tr>\n",
       "    <tr>\n",
       "      <th>skills_JavaScript</th>\n",
       "      <td>0.0</td>\n",
       "      <td>0.0</td>\n",
       "      <td>0.0</td>\n",
       "      <td>0.0</td>\n",
       "      <td>0.0</td>\n",
       "      <td>1.0</td>\n",
       "      <td>0.0</td>\n",
       "      <td>0.0</td>\n",
       "    </tr>\n",
       "    <tr>\n",
       "      <th>skills_Python</th>\n",
       "      <td>0.0</td>\n",
       "      <td>0.0</td>\n",
       "      <td>1.0</td>\n",
       "      <td>0.0</td>\n",
       "      <td>0.0</td>\n",
       "      <td>1.0</td>\n",
       "      <td>0.0</td>\n",
       "      <td>1.0</td>\n",
       "    </tr>\n",
       "    <tr>\n",
       "      <th>skills_R</th>\n",
       "      <td>0.0</td>\n",
       "      <td>0.0</td>\n",
       "      <td>0.0</td>\n",
       "      <td>0.0</td>\n",
       "      <td>0.0</td>\n",
       "      <td>0.0</td>\n",
       "      <td>1.0</td>\n",
       "      <td>0.0</td>\n",
       "    </tr>\n",
       "    <tr>\n",
       "      <th>skills_React</th>\n",
       "      <td>0.0</td>\n",
       "      <td>0.0</td>\n",
       "      <td>0.0</td>\n",
       "      <td>0.0</td>\n",
       "      <td>1.0</td>\n",
       "      <td>0.0</td>\n",
       "      <td>0.0</td>\n",
       "      <td>0.0</td>\n",
       "    </tr>\n",
       "    <tr>\n",
       "      <th>skills_SQL</th>\n",
       "      <td>0.0</td>\n",
       "      <td>0.0</td>\n",
       "      <td>1.0</td>\n",
       "      <td>0.0</td>\n",
       "      <td>0.0</td>\n",
       "      <td>0.0</td>\n",
       "      <td>1.0</td>\n",
       "      <td>1.0</td>\n",
       "    </tr>\n",
       "    <tr>\n",
       "      <th>skills_Tableau</th>\n",
       "      <td>0.0</td>\n",
       "      <td>0.0</td>\n",
       "      <td>1.0</td>\n",
       "      <td>0.0</td>\n",
       "      <td>0.0</td>\n",
       "      <td>0.0</td>\n",
       "      <td>0.0</td>\n",
       "      <td>0.0</td>\n",
       "    </tr>\n",
       "    <tr>\n",
       "      <th>department_IT</th>\n",
       "      <td>0.0</td>\n",
       "      <td>1.0</td>\n",
       "      <td>1.0</td>\n",
       "      <td>0.0</td>\n",
       "      <td>1.0</td>\n",
       "      <td>1.0</td>\n",
       "      <td>1.0</td>\n",
       "      <td>1.0</td>\n",
       "    </tr>\n",
       "    <tr>\n",
       "      <th>job_data scientist</th>\n",
       "      <td>0.0</td>\n",
       "      <td>0.0</td>\n",
       "      <td>1.0</td>\n",
       "      <td>0.0</td>\n",
       "      <td>0.0</td>\n",
       "      <td>0.0</td>\n",
       "      <td>1.0</td>\n",
       "      <td>1.0</td>\n",
       "    </tr>\n",
       "    <tr>\n",
       "      <th>job_frontend developer</th>\n",
       "      <td>0.0</td>\n",
       "      <td>0.0</td>\n",
       "      <td>0.0</td>\n",
       "      <td>0.0</td>\n",
       "      <td>0.0</td>\n",
       "      <td>1.0</td>\n",
       "      <td>0.0</td>\n",
       "      <td>0.0</td>\n",
       "    </tr>\n",
       "    <tr>\n",
       "      <th>job_manager</th>\n",
       "      <td>1.0</td>\n",
       "      <td>1.0</td>\n",
       "      <td>0.0</td>\n",
       "      <td>0.0</td>\n",
       "      <td>0.0</td>\n",
       "      <td>0.0</td>\n",
       "      <td>0.0</td>\n",
       "      <td>0.0</td>\n",
       "    </tr>\n",
       "    <tr>\n",
       "      <th>job_recruiter</th>\n",
       "      <td>0.0</td>\n",
       "      <td>0.0</td>\n",
       "      <td>0.0</td>\n",
       "      <td>1.0</td>\n",
       "      <td>0.0</td>\n",
       "      <td>0.0</td>\n",
       "      <td>0.0</td>\n",
       "      <td>0.0</td>\n",
       "    </tr>\n",
       "  </tbody>\n",
       "</table>\n",
       "</div>"
      ],
      "text/plain": [
       "                               0         1         2         3         4  \\\n",
       "salary                  150000.0  180000.0  150000.0  130000.0  110000.0   \n",
       "skills_C++                   0.0       1.0       0.0       0.0       0.0   \n",
       "skills_Django                0.0       0.0       0.0       0.0       1.0   \n",
       "skills_Java                  0.0       1.0       0.0       0.0       0.0   \n",
       "skills_JavaScript            0.0       0.0       0.0       0.0       0.0   \n",
       "skills_Python                0.0       0.0       1.0       0.0       0.0   \n",
       "skills_R                     0.0       0.0       0.0       0.0       0.0   \n",
       "skills_React                 0.0       0.0       0.0       0.0       1.0   \n",
       "skills_SQL                   0.0       0.0       1.0       0.0       0.0   \n",
       "skills_Tableau               0.0       0.0       1.0       0.0       0.0   \n",
       "department_IT                0.0       1.0       1.0       0.0       1.0   \n",
       "job_data scientist           0.0       0.0       1.0       0.0       0.0   \n",
       "job_frontend developer       0.0       0.0       0.0       0.0       0.0   \n",
       "job_manager                  1.0       1.0       0.0       0.0       0.0   \n",
       "job_recruiter                0.0       0.0       0.0       1.0       0.0   \n",
       "\n",
       "                               5         6         7  \n",
       "salary                  120000.0  135000.0  125000.0  \n",
       "skills_C++                   0.0       0.0       0.0  \n",
       "skills_Django                0.0       0.0       0.0  \n",
       "skills_Java                  0.0       0.0       0.0  \n",
       "skills_JavaScript            1.0       0.0       0.0  \n",
       "skills_Python                1.0       0.0       1.0  \n",
       "skills_R                     0.0       1.0       0.0  \n",
       "skills_React                 0.0       0.0       0.0  \n",
       "skills_SQL                   0.0       1.0       1.0  \n",
       "skills_Tableau               0.0       0.0       0.0  \n",
       "department_IT                1.0       1.0       1.0  \n",
       "job_data scientist           0.0       1.0       1.0  \n",
       "job_frontend developer       1.0       0.0       0.0  \n",
       "job_manager                  0.0       0.0       0.0  \n",
       "job_recruiter                0.0       0.0       0.0  "
      ]
     },
     "execution_count": 86,
     "metadata": {},
     "output_type": "execute_result"
    }
   ],
   "source": [
    "df_final = pd.get_dummies(df_final, drop_first=True)\n",
    "df_final.T"
   ]
  },
  {
   "cell_type": "markdown",
   "metadata": {},
   "source": [
    "# Working with Time Data"
   ]
  },
  {
   "cell_type": "markdown",
   "metadata": {},
   "source": [
    "## pd.to_datetime()\n",
    "https://pandas.pydata.org/docs/reference/api/pandas.to_datetime.html"
   ]
  },
  {
   "cell_type": "code",
   "execution_count": 87,
   "metadata": {},
   "outputs": [
    {
     "data": {
      "text/html": [
       "<div>\n",
       "<style scoped>\n",
       "    .dataframe tbody tr th:only-of-type {\n",
       "        vertical-align: middle;\n",
       "    }\n",
       "\n",
       "    .dataframe tbody tr th {\n",
       "        vertical-align: top;\n",
       "    }\n",
       "\n",
       "    .dataframe thead th {\n",
       "        text-align: right;\n",
       "    }\n",
       "</style>\n",
       "<table border=\"1\" class=\"dataframe\">\n",
       "  <thead>\n",
       "    <tr style=\"text-align: right;\">\n",
       "      <th></th>\n",
       "      <th>id_product</th>\n",
       "      <th>order_date</th>\n",
       "      <th>product_quantity</th>\n",
       "      <th>product_price</th>\n",
       "      <th>entry_date</th>\n",
       "    </tr>\n",
       "  </thead>\n",
       "  <tbody>\n",
       "    <tr>\n",
       "      <th>0</th>\n",
       "      <td>401</td>\n",
       "      <td>2021-01-23</td>\n",
       "      <td>1.0</td>\n",
       "      <td>541.487603</td>\n",
       "      <td>2018-12-04</td>\n",
       "    </tr>\n",
       "    <tr>\n",
       "      <th>1</th>\n",
       "      <td>416</td>\n",
       "      <td>2020-04-02</td>\n",
       "      <td>1.0</td>\n",
       "      <td>131.181818</td>\n",
       "      <td>2018-12-04</td>\n",
       "    </tr>\n",
       "    <tr>\n",
       "      <th>2</th>\n",
       "      <td>717</td>\n",
       "      <td>2019-03-10</td>\n",
       "      <td>1.0</td>\n",
       "      <td>2035.488500</td>\n",
       "      <td>2018-12-04</td>\n",
       "    </tr>\n",
       "    <tr>\n",
       "      <th>3</th>\n",
       "      <td>778</td>\n",
       "      <td>2019-12-27</td>\n",
       "      <td>1.0</td>\n",
       "      <td>335.988000</td>\n",
       "      <td>2018-12-04</td>\n",
       "    </tr>\n",
       "    <tr>\n",
       "      <th>4</th>\n",
       "      <td>826</td>\n",
       "      <td>2020-02-19</td>\n",
       "      <td>1.0</td>\n",
       "      <td>342.292302</td>\n",
       "      <td>2018-12-04</td>\n",
       "    </tr>\n",
       "  </tbody>\n",
       "</table>\n",
       "</div>"
      ],
      "text/plain": [
       "   id_product  order_date  product_quantity  product_price  entry_date\n",
       "0         401  2021-01-23               1.0     541.487603  2018-12-04\n",
       "1         416  2020-04-02               1.0     131.181818  2018-12-04\n",
       "2         717  2019-03-10               1.0    2035.488500  2018-12-04\n",
       "3         778  2019-12-27               1.0     335.988000  2018-12-04\n",
       "4         826  2020-02-19               1.0     342.292302  2018-12-04"
      ]
     },
     "execution_count": 87,
     "metadata": {},
     "output_type": "execute_result"
    }
   ],
   "source": [
    "df = pd.read_csv(\"time_exercise.csv\")\n",
    "df.head()"
   ]
  },
  {
   "cell_type": "code",
   "execution_count": 88,
   "metadata": {},
   "outputs": [
    {
     "name": "stdout",
     "output_type": "stream",
     "text": [
      "<class 'pandas.core.frame.DataFrame'>\n",
      "RangeIndex: 911 entries, 0 to 910\n",
      "Data columns (total 5 columns):\n",
      " #   Column            Non-Null Count  Dtype  \n",
      "---  ------            --------------  -----  \n",
      " 0   id_product        911 non-null    int64  \n",
      " 1   order_date        911 non-null    object \n",
      " 2   product_quantity  911 non-null    float64\n",
      " 3   product_price     911 non-null    float64\n",
      " 4   entry_date        911 non-null    object \n",
      "dtypes: float64(2), int64(1), object(2)\n",
      "memory usage: 35.7+ KB\n"
     ]
    }
   ],
   "source": [
    "df.info()"
   ]
  },
  {
   "cell_type": "code",
   "execution_count": 89,
   "metadata": {},
   "outputs": [
    {
     "data": {
      "text/plain": [
       "0      2021-01-23\n",
       "1      2020-04-02\n",
       "2      2019-03-10\n",
       "3      2019-12-27\n",
       "4      2020-02-19\n",
       "          ...    \n",
       "906    2020-11-24\n",
       "907    2020-11-24\n",
       "908    2020-11-22\n",
       "909    2021-01-26\n",
       "910    2020-12-06\n",
       "Name: order_date, Length: 911, dtype: object"
      ]
     },
     "execution_count": 89,
     "metadata": {},
     "output_type": "execute_result"
    }
   ],
   "source": [
    "df.order_date"
   ]
  },
  {
   "cell_type": "code",
   "execution_count": 90,
   "metadata": {},
   "outputs": [
    {
     "data": {
      "text/plain": [
       "0     2021-01-23\n",
       "1     2020-04-02\n",
       "2     2019-03-10\n",
       "3     2019-12-27\n",
       "4     2020-02-19\n",
       "         ...    \n",
       "906   2020-11-24\n",
       "907   2020-11-24\n",
       "908   2020-11-22\n",
       "909   2021-01-26\n",
       "910   2020-12-06\n",
       "Name: order_date, Length: 911, dtype: datetime64[ns]"
      ]
     },
     "execution_count": 90,
     "metadata": {},
     "output_type": "execute_result"
    }
   ],
   "source": [
    "pd.to_datetime(df.order_date)"
   ]
  },
  {
   "cell_type": "code",
   "execution_count": 91,
   "metadata": {},
   "outputs": [],
   "source": [
    "df[\"entry_date\"] = pd.to_datetime(df[\"entry_date\"])\n",
    "df[\"order_date\"] = pd.to_datetime(df[\"order_date\"])"
   ]
  },
  {
   "cell_type": "code",
   "execution_count": 92,
   "metadata": {},
   "outputs": [
    {
     "data": {
      "text/html": [
       "<div>\n",
       "<style scoped>\n",
       "    .dataframe tbody tr th:only-of-type {\n",
       "        vertical-align: middle;\n",
       "    }\n",
       "\n",
       "    .dataframe tbody tr th {\n",
       "        vertical-align: top;\n",
       "    }\n",
       "\n",
       "    .dataframe thead th {\n",
       "        text-align: right;\n",
       "    }\n",
       "</style>\n",
       "<table border=\"1\" class=\"dataframe\">\n",
       "  <thead>\n",
       "    <tr style=\"text-align: right;\">\n",
       "      <th></th>\n",
       "      <th>id_product</th>\n",
       "      <th>order_date</th>\n",
       "      <th>product_quantity</th>\n",
       "      <th>product_price</th>\n",
       "      <th>entry_date</th>\n",
       "    </tr>\n",
       "  </thead>\n",
       "  <tbody>\n",
       "    <tr>\n",
       "      <th>0</th>\n",
       "      <td>401</td>\n",
       "      <td>2021-01-23</td>\n",
       "      <td>1.0</td>\n",
       "      <td>541.487603</td>\n",
       "      <td>2018-12-04</td>\n",
       "    </tr>\n",
       "    <tr>\n",
       "      <th>1</th>\n",
       "      <td>416</td>\n",
       "      <td>2020-04-02</td>\n",
       "      <td>1.0</td>\n",
       "      <td>131.181818</td>\n",
       "      <td>2018-12-04</td>\n",
       "    </tr>\n",
       "    <tr>\n",
       "      <th>2</th>\n",
       "      <td>717</td>\n",
       "      <td>2019-03-10</td>\n",
       "      <td>1.0</td>\n",
       "      <td>2035.488500</td>\n",
       "      <td>2018-12-04</td>\n",
       "    </tr>\n",
       "    <tr>\n",
       "      <th>3</th>\n",
       "      <td>778</td>\n",
       "      <td>2019-12-27</td>\n",
       "      <td>1.0</td>\n",
       "      <td>335.988000</td>\n",
       "      <td>2018-12-04</td>\n",
       "    </tr>\n",
       "    <tr>\n",
       "      <th>4</th>\n",
       "      <td>826</td>\n",
       "      <td>2020-02-19</td>\n",
       "      <td>1.0</td>\n",
       "      <td>342.292302</td>\n",
       "      <td>2018-12-04</td>\n",
       "    </tr>\n",
       "  </tbody>\n",
       "</table>\n",
       "</div>"
      ],
      "text/plain": [
       "   id_product order_date  product_quantity  product_price entry_date\n",
       "0         401 2021-01-23               1.0     541.487603 2018-12-04\n",
       "1         416 2020-04-02               1.0     131.181818 2018-12-04\n",
       "2         717 2019-03-10               1.0    2035.488500 2018-12-04\n",
       "3         778 2019-12-27               1.0     335.988000 2018-12-04\n",
       "4         826 2020-02-19               1.0     342.292302 2018-12-04"
      ]
     },
     "execution_count": 92,
     "metadata": {},
     "output_type": "execute_result"
    }
   ],
   "source": [
    "df.head()"
   ]
  },
  {
   "cell_type": "code",
   "execution_count": 93,
   "metadata": {},
   "outputs": [
    {
     "name": "stdout",
     "output_type": "stream",
     "text": [
      "<class 'pandas.core.frame.DataFrame'>\n",
      "RangeIndex: 911 entries, 0 to 910\n",
      "Data columns (total 5 columns):\n",
      " #   Column            Non-Null Count  Dtype         \n",
      "---  ------            --------------  -----         \n",
      " 0   id_product        911 non-null    int64         \n",
      " 1   order_date        911 non-null    datetime64[ns]\n",
      " 2   product_quantity  911 non-null    float64       \n",
      " 3   product_price     911 non-null    float64       \n",
      " 4   entry_date        911 non-null    datetime64[ns]\n",
      "dtypes: datetime64[ns](2), float64(2), int64(1)\n",
      "memory usage: 35.7 KB\n"
     ]
    }
   ],
   "source": [
    "df.info()"
   ]
  },
  {
   "cell_type": "code",
   "execution_count": 94,
   "metadata": {},
   "outputs": [
    {
     "data": {
      "text/plain": [
       "Timestamp('2018-12-04 00:00:00')"
      ]
     },
     "execution_count": 94,
     "metadata": {},
     "output_type": "execute_result"
    }
   ],
   "source": [
    "df.entry_date.min()"
   ]
  },
  {
   "cell_type": "code",
   "execution_count": 95,
   "metadata": {},
   "outputs": [
    {
     "data": {
      "text/plain": [
       "Timestamp('2020-11-26 00:00:00')"
      ]
     },
     "execution_count": 95,
     "metadata": {},
     "output_type": "execute_result"
    }
   ],
   "source": [
    "df.entry_date.max()"
   ]
  },
  {
   "cell_type": "code",
   "execution_count": 96,
   "metadata": {},
   "outputs": [
    {
     "data": {
      "text/plain": [
       "0    15-03-2020\n",
       "1    18-05-2019\n",
       "2    24-07-2018\n",
       "dtype: object"
      ]
     },
     "execution_count": 96,
     "metadata": {},
     "output_type": "execute_result"
    }
   ],
   "source": [
    "a = pd.Series([\"15-03-2020\", \"18-05-2019\", \"24-07-2018\"])\n",
    "a"
   ]
  },
  {
   "cell_type": "code",
   "execution_count": 97,
   "metadata": {},
   "outputs": [
    {
     "data": {
      "text/plain": [
       "'15-03-2020'"
      ]
     },
     "execution_count": 97,
     "metadata": {},
     "output_type": "execute_result"
    }
   ],
   "source": [
    "a.min()  # ascii code considered here!"
   ]
  },
  {
   "cell_type": "code",
   "execution_count": 99,
   "metadata": {},
   "outputs": [
    {
     "data": {
      "text/plain": [
       "0   2020-03-15\n",
       "1   2019-05-18\n",
       "2   2018-07-24\n",
       "dtype: datetime64[ns]"
      ]
     },
     "execution_count": 99,
     "metadata": {},
     "output_type": "execute_result"
    }
   ],
   "source": [
    "pd.to_datetime(a, format = '%d-%m-%Y')"
   ]
  },
  {
   "cell_type": "code",
   "execution_count": null,
   "metadata": {},
   "outputs": [],
   "source": []
  },
  {
   "cell_type": "markdown",
   "metadata": {},
   "source": [
    "## Series.dt()\n",
    "Accessor object for datetimelike properties of the Series values.\n",
    "\n",
    "https://pandas.pydata.org/docs/reference/api/pandas.Series.dt.html"
   ]
  },
  {
   "cell_type": "code",
   "execution_count": 102,
   "metadata": {},
   "outputs": [
    {
     "data": {
      "text/plain": [
       "0      12\n",
       "1      12\n",
       "2      12\n",
       "3      12\n",
       "4      12\n",
       "       ..\n",
       "906    10\n",
       "907    10\n",
       "908    11\n",
       "909    11\n",
       "910    11\n",
       "Name: entry_date, Length: 911, dtype: int64"
      ]
     },
     "execution_count": 102,
     "metadata": {},
     "output_type": "execute_result"
    }
   ],
   "source": [
    "# it can be date, year, quarter, month, week, day, weekday, dayofweek, hour, minute, second, microsecond\n",
    "df.entry_date.dt.month"
   ]
  },
  {
   "cell_type": "code",
   "execution_count": 101,
   "metadata": {},
   "outputs": [
    {
     "data": {
      "text/plain": [
       "0        Tuesday\n",
       "1        Tuesday\n",
       "2        Tuesday\n",
       "3        Tuesday\n",
       "4        Tuesday\n",
       "         ...    \n",
       "906    Wednesday\n",
       "907    Wednesday\n",
       "908       Friday\n",
       "909      Tuesday\n",
       "910     Thursday\n",
       "Name: entry_date, Length: 911, dtype: object"
      ]
     },
     "execution_count": 101,
     "metadata": {},
     "output_type": "execute_result"
    }
   ],
   "source": [
    "df.entry_date.dt.day_name()"
   ]
  },
  {
   "cell_type": "code",
   "execution_count": null,
   "metadata": {},
   "outputs": [],
   "source": []
  },
  {
   "cell_type": "code",
   "execution_count": null,
   "metadata": {},
   "outputs": [],
   "source": []
  },
  {
   "cell_type": "markdown",
   "metadata": {},
   "source": [
    "## datetime module\n",
    "The datetime module supplies classes for manipulating dates and times.\n",
    "\n",
    "https://docs.python.org/3/library/datetime.html"
   ]
  },
  {
   "cell_type": "markdown",
   "metadata": {},
   "source": [
    "### class datetime.datetime\n",
    "\n",
    "A combination of a date and a time. Attributes: year, month, day, hour, minute, second, microsecond, and tzinfo."
   ]
  },
  {
   "cell_type": "code",
   "execution_count": 105,
   "metadata": {},
   "outputs": [],
   "source": [
    "from datetime import datetime"
   ]
  },
  {
   "cell_type": "code",
   "execution_count": 106,
   "metadata": {},
   "outputs": [
    {
     "data": {
      "text/plain": [
       "datetime.datetime(2022, 1, 31, 20, 38, 35, 940215)"
      ]
     },
     "execution_count": 106,
     "metadata": {},
     "output_type": "execute_result"
    }
   ],
   "source": [
    "datetime.now()"
   ]
  },
  {
   "cell_type": "code",
   "execution_count": 107,
   "metadata": {},
   "outputs": [
    {
     "name": "stdout",
     "output_type": "stream",
     "text": [
      "2022-01-31 20:38:52.666525\n"
     ]
    }
   ],
   "source": [
    "print(datetime.now())"
   ]
  },
  {
   "cell_type": "code",
   "execution_count": 108,
   "metadata": {},
   "outputs": [
    {
     "name": "stdout",
     "output_type": "stream",
     "text": [
      "2022-01-31 20:39:10.755504\n"
     ]
    }
   ],
   "source": [
    "print(datetime.today())"
   ]
  },
  {
   "cell_type": "code",
   "execution_count": 109,
   "metadata": {},
   "outputs": [],
   "source": [
    "current_datetime = datetime.today()"
   ]
  },
  {
   "cell_type": "code",
   "execution_count": 110,
   "metadata": {},
   "outputs": [
    {
     "data": {
      "text/plain": [
       "datetime.date(2022, 1, 31)"
      ]
     },
     "execution_count": 110,
     "metadata": {},
     "output_type": "execute_result"
    }
   ],
   "source": [
    "current_datetime.date()"
   ]
  },
  {
   "cell_type": "code",
   "execution_count": 111,
   "metadata": {},
   "outputs": [
    {
     "data": {
      "text/plain": [
       "2022"
      ]
     },
     "execution_count": 111,
     "metadata": {},
     "output_type": "execute_result"
    }
   ],
   "source": [
    "current_datetime.year"
   ]
  },
  {
   "cell_type": "code",
   "execution_count": 112,
   "metadata": {},
   "outputs": [
    {
     "data": {
      "text/plain": [
       "0"
      ]
     },
     "execution_count": 112,
     "metadata": {},
     "output_type": "execute_result"
    }
   ],
   "source": [
    "current_datetime.weekday()"
   ]
  },
  {
   "cell_type": "code",
   "execution_count": 113,
   "metadata": {},
   "outputs": [
    {
     "data": {
      "text/plain": [
       "1"
      ]
     },
     "execution_count": 113,
     "metadata": {},
     "output_type": "execute_result"
    }
   ],
   "source": [
    "current_datetime.isoweekday()"
   ]
  },
  {
   "cell_type": "markdown",
   "metadata": {},
   "source": [
    "### class datetime.timedelta\n",
    "\n",
    "A duration expressing the difference between two date, time, or datetime instances to microsecond resolution."
   ]
  },
  {
   "cell_type": "code",
   "execution_count": 114,
   "metadata": {},
   "outputs": [],
   "source": [
    "from datetime import timedelta"
   ]
  },
  {
   "cell_type": "code",
   "execution_count": 115,
   "metadata": {},
   "outputs": [
    {
     "data": {
      "text/plain": [
       "datetime.timedelta(days=2)"
      ]
     },
     "execution_count": 115,
     "metadata": {},
     "output_type": "execute_result"
    }
   ],
   "source": [
    "timedelta(days=2)"
   ]
  },
  {
   "cell_type": "code",
   "execution_count": 116,
   "metadata": {},
   "outputs": [
    {
     "name": "stdout",
     "output_type": "stream",
     "text": [
      "2 days, 0:00:00\n"
     ]
    }
   ],
   "source": [
    "print(timedelta(days=2))"
   ]
  },
  {
   "cell_type": "code",
   "execution_count": 117,
   "metadata": {},
   "outputs": [
    {
     "name": "stdout",
     "output_type": "stream",
     "text": [
      "2022-01-31 20:40:40.598103\n"
     ]
    }
   ],
   "source": [
    "print(current_datetime)"
   ]
  },
  {
   "cell_type": "code",
   "execution_count": 118,
   "metadata": {},
   "outputs": [
    {
     "data": {
      "text/plain": [
       "datetime.datetime(2022, 1, 29, 20, 40, 40, 598103)"
      ]
     },
     "execution_count": 118,
     "metadata": {},
     "output_type": "execute_result"
    }
   ],
   "source": [
    "two_days_before = current_datetime-timedelta(days=2)\n",
    "two_days_before"
   ]
  },
  {
   "cell_type": "code",
   "execution_count": 119,
   "metadata": {},
   "outputs": [
    {
     "data": {
      "text/plain": [
       "datetime.datetime(2022, 2, 18, 0, 50, 40, 598103)"
      ]
     },
     "execution_count": 119,
     "metadata": {},
     "output_type": "execute_result"
    }
   ],
   "source": [
    "current_datetime + timedelta(weeks=2, days=3, hours=4, minutes=10)"
   ]
  },
  {
   "cell_type": "code",
   "execution_count": 120,
   "metadata": {},
   "outputs": [
    {
     "name": "stdout",
     "output_type": "stream",
     "text": [
      "current_date    2022-01-31 20:40:40.598103\n",
      "plus            14 days, 4:10:00\n",
      "total           2022-02-18 00:50:40.598103\n"
     ]
    }
   ],
   "source": [
    "print(f\"{'current_date': <15}\", current_datetime)\n",
    "print(f\"{'plus': <15}\", timedelta(weeks=2, hours=4, minutes=10))\n",
    "print(f\"{'total': <15}\", current_datetime+timedelta(weeks=2, days=3, hours=4, minutes=10))"
   ]
  },
  {
   "cell_type": "markdown",
   "metadata": {},
   "source": [
    "### strftime()\n",
    "\n",
    "Converting from date/datetime/timedelta object to string type\n",
    "\n",
    "https://strftime.org/"
   ]
  },
  {
   "cell_type": "code",
   "execution_count": 121,
   "metadata": {},
   "outputs": [
    {
     "name": "stdout",
     "output_type": "stream",
     "text": [
      "2022-01-31 20:40:40.598103\n"
     ]
    }
   ],
   "source": [
    "print(current_datetime)"
   ]
  },
  {
   "cell_type": "code",
   "execution_count": 122,
   "metadata": {},
   "outputs": [
    {
     "data": {
      "text/plain": [
       "'2022'"
      ]
     },
     "execution_count": 122,
     "metadata": {},
     "output_type": "execute_result"
    }
   ],
   "source": [
    "current_datetime.strftime(\"%Y\")"
   ]
  },
  {
   "cell_type": "code",
   "execution_count": 123,
   "metadata": {},
   "outputs": [
    {
     "name": "stdout",
     "output_type": "stream",
     "text": [
      "year: 2022\n",
      "month: 01\n",
      "day: 31\n",
      "time: 20:40:40\n",
      "date and time: 01/31/2022, 20:40:40\n"
     ]
    }
   ],
   "source": [
    "year = current_datetime.strftime(\"%Y\")\n",
    "print(\"year:\", year)\n",
    "month = current_datetime.strftime(\"%m\")\n",
    "print(\"month:\", month)\n",
    "day = current_datetime.strftime(\"%d\")\n",
    "print(\"day:\", day)\n",
    "time = current_datetime.strftime(\"%H:%M:%S\")\n",
    "print(\"time:\", time)\n",
    "date_time = current_datetime.strftime(\"%m/%d/%Y, %H:%M:%S\")\n",
    "print(\"date and time:\",date_time)"
   ]
  },
  {
   "cell_type": "markdown",
   "metadata": {},
   "source": [
    "### strptime()\n",
    "\n",
    "Converting from string type to datetime object"
   ]
  },
  {
   "cell_type": "code",
   "execution_count": 124,
   "metadata": {},
   "outputs": [
    {
     "data": {
      "text/plain": [
       "'12 June, 2018'"
      ]
     },
     "execution_count": 124,
     "metadata": {},
     "output_type": "execute_result"
    }
   ],
   "source": [
    "date_string = \"12 June, 2018\"\n",
    "date_string"
   ]
  },
  {
   "cell_type": "code",
   "execution_count": 126,
   "metadata": {},
   "outputs": [
    {
     "data": {
      "text/plain": [
       "datetime.datetime(2018, 6, 12, 0, 0)"
      ]
     },
     "execution_count": 126,
     "metadata": {},
     "output_type": "execute_result"
    }
   ],
   "source": [
    "datetime.strptime(date_string, \"%d %B, %Y\")"
   ]
  },
  {
   "cell_type": "code",
   "execution_count": 127,
   "metadata": {},
   "outputs": [
    {
     "data": {
      "text/plain": [
       "Timestamp('2018-06-12 00:00:00')"
      ]
     },
     "execution_count": 127,
     "metadata": {},
     "output_type": "execute_result"
    }
   ],
   "source": [
    "pd.to_datetime(date_string)"
   ]
  },
  {
   "cell_type": "code",
   "execution_count": 128,
   "metadata": {},
   "outputs": [
    {
     "data": {
      "text/plain": [
       "datetime.datetime(2018, 6, 12, 0, 0)"
      ]
     },
     "execution_count": 128,
     "metadata": {},
     "output_type": "execute_result"
    }
   ],
   "source": [
    "datetime_object = datetime.strptime(date_string, \"%d %B, %Y\")\n",
    "datetime_object"
   ]
  },
  {
   "cell_type": "code",
   "execution_count": 130,
   "metadata": {},
   "outputs": [
    {
     "data": {
      "text/plain": [
       "2018"
      ]
     },
     "execution_count": 130,
     "metadata": {},
     "output_type": "execute_result"
    }
   ],
   "source": [
    "datetime_object.year"
   ]
  },
  {
   "cell_type": "markdown",
   "metadata": {},
   "source": [
    "### Operation with datetime object"
   ]
  },
  {
   "cell_type": "markdown",
   "metadata": {},
   "source": [
    "**lets detect the time between first order date and entry date for each product**"
   ]
  },
  {
   "cell_type": "code",
   "execution_count": 131,
   "metadata": {},
   "outputs": [
    {
     "data": {
      "text/html": [
       "<div>\n",
       "<style scoped>\n",
       "    .dataframe tbody tr th:only-of-type {\n",
       "        vertical-align: middle;\n",
       "    }\n",
       "\n",
       "    .dataframe tbody tr th {\n",
       "        vertical-align: top;\n",
       "    }\n",
       "\n",
       "    .dataframe thead th {\n",
       "        text-align: right;\n",
       "    }\n",
       "</style>\n",
       "<table border=\"1\" class=\"dataframe\">\n",
       "  <thead>\n",
       "    <tr style=\"text-align: right;\">\n",
       "      <th></th>\n",
       "      <th>id_product</th>\n",
       "      <th>order_date</th>\n",
       "      <th>product_quantity</th>\n",
       "      <th>product_price</th>\n",
       "      <th>entry_date</th>\n",
       "    </tr>\n",
       "  </thead>\n",
       "  <tbody>\n",
       "    <tr>\n",
       "      <th>0</th>\n",
       "      <td>401</td>\n",
       "      <td>2021-01-23</td>\n",
       "      <td>1.0</td>\n",
       "      <td>541.487603</td>\n",
       "      <td>2018-12-04</td>\n",
       "    </tr>\n",
       "    <tr>\n",
       "      <th>1</th>\n",
       "      <td>416</td>\n",
       "      <td>2020-04-02</td>\n",
       "      <td>1.0</td>\n",
       "      <td>131.181818</td>\n",
       "      <td>2018-12-04</td>\n",
       "    </tr>\n",
       "    <tr>\n",
       "      <th>2</th>\n",
       "      <td>717</td>\n",
       "      <td>2019-03-10</td>\n",
       "      <td>1.0</td>\n",
       "      <td>2035.488500</td>\n",
       "      <td>2018-12-04</td>\n",
       "    </tr>\n",
       "    <tr>\n",
       "      <th>3</th>\n",
       "      <td>778</td>\n",
       "      <td>2019-12-27</td>\n",
       "      <td>1.0</td>\n",
       "      <td>335.988000</td>\n",
       "      <td>2018-12-04</td>\n",
       "    </tr>\n",
       "    <tr>\n",
       "      <th>4</th>\n",
       "      <td>826</td>\n",
       "      <td>2020-02-19</td>\n",
       "      <td>1.0</td>\n",
       "      <td>342.292302</td>\n",
       "      <td>2018-12-04</td>\n",
       "    </tr>\n",
       "    <tr>\n",
       "      <th>...</th>\n",
       "      <td>...</td>\n",
       "      <td>...</td>\n",
       "      <td>...</td>\n",
       "      <td>...</td>\n",
       "      <td>...</td>\n",
       "    </tr>\n",
       "    <tr>\n",
       "      <th>906</th>\n",
       "      <td>1536842</td>\n",
       "      <td>2020-11-24</td>\n",
       "      <td>1.0</td>\n",
       "      <td>1186.776860</td>\n",
       "      <td>2020-10-07</td>\n",
       "    </tr>\n",
       "    <tr>\n",
       "      <th>907</th>\n",
       "      <td>1536842</td>\n",
       "      <td>2020-11-24</td>\n",
       "      <td>1.0</td>\n",
       "      <td>1186.776860</td>\n",
       "      <td>2020-10-07</td>\n",
       "    </tr>\n",
       "    <tr>\n",
       "      <th>908</th>\n",
       "      <td>1536887</td>\n",
       "      <td>2020-11-22</td>\n",
       "      <td>1.0</td>\n",
       "      <td>0.000000</td>\n",
       "      <td>2020-11-13</td>\n",
       "    </tr>\n",
       "    <tr>\n",
       "      <th>909</th>\n",
       "      <td>1536952</td>\n",
       "      <td>2021-01-26</td>\n",
       "      <td>1.0</td>\n",
       "      <td>988.429752</td>\n",
       "      <td>2020-11-24</td>\n",
       "    </tr>\n",
       "    <tr>\n",
       "      <th>910</th>\n",
       "      <td>1536974</td>\n",
       "      <td>2020-12-06</td>\n",
       "      <td>1.0</td>\n",
       "      <td>0.000000</td>\n",
       "      <td>2020-11-26</td>\n",
       "    </tr>\n",
       "  </tbody>\n",
       "</table>\n",
       "<p>911 rows × 5 columns</p>\n",
       "</div>"
      ],
      "text/plain": [
       "     id_product order_date  product_quantity  product_price entry_date\n",
       "0           401 2021-01-23               1.0     541.487603 2018-12-04\n",
       "1           416 2020-04-02               1.0     131.181818 2018-12-04\n",
       "2           717 2019-03-10               1.0    2035.488500 2018-12-04\n",
       "3           778 2019-12-27               1.0     335.988000 2018-12-04\n",
       "4           826 2020-02-19               1.0     342.292302 2018-12-04\n",
       "..          ...        ...               ...            ...        ...\n",
       "906     1536842 2020-11-24               1.0    1186.776860 2020-10-07\n",
       "907     1536842 2020-11-24               1.0    1186.776860 2020-10-07\n",
       "908     1536887 2020-11-22               1.0       0.000000 2020-11-13\n",
       "909     1536952 2021-01-26               1.0     988.429752 2020-11-24\n",
       "910     1536974 2020-12-06               1.0       0.000000 2020-11-26\n",
       "\n",
       "[911 rows x 5 columns]"
      ]
     },
     "execution_count": 131,
     "metadata": {},
     "output_type": "execute_result"
    }
   ],
   "source": [
    "df"
   ]
  },
  {
   "cell_type": "code",
   "execution_count": 132,
   "metadata": {},
   "outputs": [
    {
     "data": {
      "text/plain": [
       "0     781 days\n",
       "1     485 days\n",
       "2      96 days\n",
       "3     388 days\n",
       "4     442 days\n",
       "        ...   \n",
       "906    48 days\n",
       "907    48 days\n",
       "908     9 days\n",
       "909    63 days\n",
       "910    10 days\n",
       "Length: 911, dtype: timedelta64[ns]"
      ]
     },
     "execution_count": 132,
     "metadata": {},
     "output_type": "execute_result"
    }
   ],
   "source": [
    "df.order_date-df.entry_date"
   ]
  },
  {
   "cell_type": "code",
   "execution_count": 133,
   "metadata": {},
   "outputs": [],
   "source": [
    "df[\"passing_time_to_firstsale\"] = df[\"order_date\"] - df[\"entry_date\"]"
   ]
  },
  {
   "cell_type": "code",
   "execution_count": 135,
   "metadata": {},
   "outputs": [],
   "source": [
    "df[\"passing_time_to_firstsale\"] = df[\"passing_time_to_firstsale\"].astype('str').str.split(\" \").str[0].astype('int')"
   ]
  },
  {
   "cell_type": "code",
   "execution_count": 138,
   "metadata": {},
   "outputs": [
    {
     "data": {
      "text/html": [
       "<div>\n",
       "<style scoped>\n",
       "    .dataframe tbody tr th:only-of-type {\n",
       "        vertical-align: middle;\n",
       "    }\n",
       "\n",
       "    .dataframe tbody tr th {\n",
       "        vertical-align: top;\n",
       "    }\n",
       "\n",
       "    .dataframe thead th {\n",
       "        text-align: right;\n",
       "    }\n",
       "</style>\n",
       "<table border=\"1\" class=\"dataframe\">\n",
       "  <thead>\n",
       "    <tr style=\"text-align: right;\">\n",
       "      <th></th>\n",
       "      <th>passing_time_to_firstsale</th>\n",
       "    </tr>\n",
       "    <tr>\n",
       "      <th>id_product</th>\n",
       "      <th></th>\n",
       "    </tr>\n",
       "  </thead>\n",
       "  <tbody>\n",
       "    <tr>\n",
       "      <th>401</th>\n",
       "      <td>781</td>\n",
       "    </tr>\n",
       "    <tr>\n",
       "      <th>416</th>\n",
       "      <td>485</td>\n",
       "    </tr>\n",
       "    <tr>\n",
       "      <th>717</th>\n",
       "      <td>96</td>\n",
       "    </tr>\n",
       "    <tr>\n",
       "      <th>778</th>\n",
       "      <td>388</td>\n",
       "    </tr>\n",
       "    <tr>\n",
       "      <th>826</th>\n",
       "      <td>442</td>\n",
       "    </tr>\n",
       "    <tr>\n",
       "      <th>...</th>\n",
       "      <td>...</td>\n",
       "    </tr>\n",
       "    <tr>\n",
       "      <th>1536841</th>\n",
       "      <td>38</td>\n",
       "    </tr>\n",
       "    <tr>\n",
       "      <th>1536842</th>\n",
       "      <td>48</td>\n",
       "    </tr>\n",
       "    <tr>\n",
       "      <th>1536887</th>\n",
       "      <td>9</td>\n",
       "    </tr>\n",
       "    <tr>\n",
       "      <th>1536952</th>\n",
       "      <td>63</td>\n",
       "    </tr>\n",
       "    <tr>\n",
       "      <th>1536974</th>\n",
       "      <td>10</td>\n",
       "    </tr>\n",
       "  </tbody>\n",
       "</table>\n",
       "<p>498 rows × 1 columns</p>\n",
       "</div>"
      ],
      "text/plain": [
       "            passing_time_to_firstsale\n",
       "id_product                           \n",
       "401                               781\n",
       "416                               485\n",
       "717                                96\n",
       "778                               388\n",
       "826                               442\n",
       "...                               ...\n",
       "1536841                            38\n",
       "1536842                            48\n",
       "1536887                             9\n",
       "1536952                            63\n",
       "1536974                            10\n",
       "\n",
       "[498 rows x 1 columns]"
      ]
     },
     "execution_count": 138,
     "metadata": {},
     "output_type": "execute_result"
    }
   ],
   "source": [
    "df.groupby('id_product')[[\"passing_time_to_firstsale\"]].min()"
   ]
  },
  {
   "cell_type": "code",
   "execution_count": 137,
   "metadata": {},
   "outputs": [
    {
     "data": {
      "text/plain": [
       "911"
      ]
     },
     "execution_count": 137,
     "metadata": {},
     "output_type": "execute_result"
    }
   ],
   "source": [
    "len(df)"
   ]
  },
  {
   "cell_type": "code",
   "execution_count": 143,
   "metadata": {},
   "outputs": [
    {
     "data": {
      "text/plain": [
       "879   -213\n",
       "878   -211\n",
       "877   -209\n",
       "876   -170\n",
       "875   -170\n",
       "      ... \n",
       "473    781\n",
       "0      781\n",
       "683    785\n",
       "446    787\n",
       "408    790\n",
       "Name: passing_time_to_firstsale, Length: 911, dtype: int32"
      ]
     },
     "execution_count": 143,
     "metadata": {},
     "output_type": "execute_result"
    }
   ],
   "source": [
    "df.groupby('id_product')[\"passing_time_to_firstsale\"].transform('min').sort_values()"
   ]
  },
  {
   "cell_type": "code",
   "execution_count": 140,
   "metadata": {},
   "outputs": [],
   "source": [
    "df[\"passing_time_to_firstsale\"]=df.groupby('id_product')[\"passing_time_to_firstsale\"].transform('min')"
   ]
  },
  {
   "cell_type": "code",
   "execution_count": 144,
   "metadata": {},
   "outputs": [
    {
     "data": {
      "text/html": [
       "<div>\n",
       "<style scoped>\n",
       "    .dataframe tbody tr th:only-of-type {\n",
       "        vertical-align: middle;\n",
       "    }\n",
       "\n",
       "    .dataframe tbody tr th {\n",
       "        vertical-align: top;\n",
       "    }\n",
       "\n",
       "    .dataframe thead th {\n",
       "        text-align: right;\n",
       "    }\n",
       "</style>\n",
       "<table border=\"1\" class=\"dataframe\">\n",
       "  <thead>\n",
       "    <tr style=\"text-align: right;\">\n",
       "      <th></th>\n",
       "      <th>id_product</th>\n",
       "      <th>order_date</th>\n",
       "      <th>product_quantity</th>\n",
       "      <th>product_price</th>\n",
       "      <th>entry_date</th>\n",
       "      <th>passing_time_to_firstsale</th>\n",
       "    </tr>\n",
       "  </thead>\n",
       "  <tbody>\n",
       "    <tr>\n",
       "      <th>0</th>\n",
       "      <td>401</td>\n",
       "      <td>2021-01-23</td>\n",
       "      <td>1.0</td>\n",
       "      <td>541.487603</td>\n",
       "      <td>2018-12-04</td>\n",
       "      <td>781</td>\n",
       "    </tr>\n",
       "    <tr>\n",
       "      <th>1</th>\n",
       "      <td>416</td>\n",
       "      <td>2020-04-02</td>\n",
       "      <td>1.0</td>\n",
       "      <td>131.181818</td>\n",
       "      <td>2018-12-04</td>\n",
       "      <td>485</td>\n",
       "    </tr>\n",
       "    <tr>\n",
       "      <th>2</th>\n",
       "      <td>717</td>\n",
       "      <td>2019-03-10</td>\n",
       "      <td>1.0</td>\n",
       "      <td>2035.488500</td>\n",
       "      <td>2018-12-04</td>\n",
       "      <td>96</td>\n",
       "    </tr>\n",
       "    <tr>\n",
       "      <th>3</th>\n",
       "      <td>778</td>\n",
       "      <td>2019-12-27</td>\n",
       "      <td>1.0</td>\n",
       "      <td>335.988000</td>\n",
       "      <td>2018-12-04</td>\n",
       "      <td>388</td>\n",
       "    </tr>\n",
       "    <tr>\n",
       "      <th>4</th>\n",
       "      <td>826</td>\n",
       "      <td>2020-02-19</td>\n",
       "      <td>1.0</td>\n",
       "      <td>342.292302</td>\n",
       "      <td>2018-12-04</td>\n",
       "      <td>442</td>\n",
       "    </tr>\n",
       "    <tr>\n",
       "      <th>...</th>\n",
       "      <td>...</td>\n",
       "      <td>...</td>\n",
       "      <td>...</td>\n",
       "      <td>...</td>\n",
       "      <td>...</td>\n",
       "      <td>...</td>\n",
       "    </tr>\n",
       "    <tr>\n",
       "      <th>906</th>\n",
       "      <td>1536842</td>\n",
       "      <td>2020-11-24</td>\n",
       "      <td>1.0</td>\n",
       "      <td>1186.776860</td>\n",
       "      <td>2020-10-07</td>\n",
       "      <td>48</td>\n",
       "    </tr>\n",
       "    <tr>\n",
       "      <th>907</th>\n",
       "      <td>1536842</td>\n",
       "      <td>2020-11-24</td>\n",
       "      <td>1.0</td>\n",
       "      <td>1186.776860</td>\n",
       "      <td>2020-10-07</td>\n",
       "      <td>48</td>\n",
       "    </tr>\n",
       "    <tr>\n",
       "      <th>908</th>\n",
       "      <td>1536887</td>\n",
       "      <td>2020-11-22</td>\n",
       "      <td>1.0</td>\n",
       "      <td>0.000000</td>\n",
       "      <td>2020-11-13</td>\n",
       "      <td>9</td>\n",
       "    </tr>\n",
       "    <tr>\n",
       "      <th>909</th>\n",
       "      <td>1536952</td>\n",
       "      <td>2021-01-26</td>\n",
       "      <td>1.0</td>\n",
       "      <td>988.429752</td>\n",
       "      <td>2020-11-24</td>\n",
       "      <td>63</td>\n",
       "    </tr>\n",
       "    <tr>\n",
       "      <th>910</th>\n",
       "      <td>1536974</td>\n",
       "      <td>2020-12-06</td>\n",
       "      <td>1.0</td>\n",
       "      <td>0.000000</td>\n",
       "      <td>2020-11-26</td>\n",
       "      <td>10</td>\n",
       "    </tr>\n",
       "  </tbody>\n",
       "</table>\n",
       "<p>911 rows × 6 columns</p>\n",
       "</div>"
      ],
      "text/plain": [
       "     id_product order_date  product_quantity  product_price entry_date  \\\n",
       "0           401 2021-01-23               1.0     541.487603 2018-12-04   \n",
       "1           416 2020-04-02               1.0     131.181818 2018-12-04   \n",
       "2           717 2019-03-10               1.0    2035.488500 2018-12-04   \n",
       "3           778 2019-12-27               1.0     335.988000 2018-12-04   \n",
       "4           826 2020-02-19               1.0     342.292302 2018-12-04   \n",
       "..          ...        ...               ...            ...        ...   \n",
       "906     1536842 2020-11-24               1.0    1186.776860 2020-10-07   \n",
       "907     1536842 2020-11-24               1.0    1186.776860 2020-10-07   \n",
       "908     1536887 2020-11-22               1.0       0.000000 2020-11-13   \n",
       "909     1536952 2021-01-26               1.0     988.429752 2020-11-24   \n",
       "910     1536974 2020-12-06               1.0       0.000000 2020-11-26   \n",
       "\n",
       "     passing_time_to_firstsale  \n",
       "0                          781  \n",
       "1                          485  \n",
       "2                           96  \n",
       "3                          388  \n",
       "4                          442  \n",
       "..                         ...  \n",
       "906                         48  \n",
       "907                         48  \n",
       "908                          9  \n",
       "909                         63  \n",
       "910                         10  \n",
       "\n",
       "[911 rows x 6 columns]"
      ]
     },
     "execution_count": 144,
     "metadata": {},
     "output_type": "execute_result"
    }
   ],
   "source": [
    "df"
   ]
  },
  {
   "cell_type": "code",
   "execution_count": 147,
   "metadata": {},
   "outputs": [
    {
     "data": {
      "text/html": [
       "<div>\n",
       "<style scoped>\n",
       "    .dataframe tbody tr th:only-of-type {\n",
       "        vertical-align: middle;\n",
       "    }\n",
       "\n",
       "    .dataframe tbody tr th {\n",
       "        vertical-align: top;\n",
       "    }\n",
       "\n",
       "    .dataframe thead th {\n",
       "        text-align: right;\n",
       "    }\n",
       "</style>\n",
       "<table border=\"1\" class=\"dataframe\">\n",
       "  <thead>\n",
       "    <tr style=\"text-align: right;\">\n",
       "      <th></th>\n",
       "      <th>id_product</th>\n",
       "      <th>order_date</th>\n",
       "      <th>product_quantity</th>\n",
       "      <th>product_price</th>\n",
       "      <th>entry_date</th>\n",
       "      <th>passing_time_to_firstsale</th>\n",
       "    </tr>\n",
       "  </thead>\n",
       "  <tbody>\n",
       "    <tr>\n",
       "      <th>879</th>\n",
       "      <td>1535922</td>\n",
       "      <td>2020-01-15</td>\n",
       "      <td>1.0</td>\n",
       "      <td>123.140496</td>\n",
       "      <td>2020-08-15</td>\n",
       "      <td>-213</td>\n",
       "    </tr>\n",
       "    <tr>\n",
       "      <th>878</th>\n",
       "      <td>1535919</td>\n",
       "      <td>2020-01-17</td>\n",
       "      <td>1.0</td>\n",
       "      <td>23.966942</td>\n",
       "      <td>2020-08-15</td>\n",
       "      <td>-211</td>\n",
       "    </tr>\n",
       "    <tr>\n",
       "      <th>877</th>\n",
       "      <td>1535914</td>\n",
       "      <td>2020-01-19</td>\n",
       "      <td>1.0</td>\n",
       "      <td>2795.000000</td>\n",
       "      <td>2020-08-15</td>\n",
       "      <td>-209</td>\n",
       "    </tr>\n",
       "    <tr>\n",
       "      <th>876</th>\n",
       "      <td>1535912</td>\n",
       "      <td>2020-10-10</td>\n",
       "      <td>1.0</td>\n",
       "      <td>1051.089406</td>\n",
       "      <td>2020-08-15</td>\n",
       "      <td>-170</td>\n",
       "    </tr>\n",
       "    <tr>\n",
       "      <th>875</th>\n",
       "      <td>1535912</td>\n",
       "      <td>2020-04-02</td>\n",
       "      <td>1.0</td>\n",
       "      <td>1177.272727</td>\n",
       "      <td>2020-08-15</td>\n",
       "      <td>-170</td>\n",
       "    </tr>\n",
       "    <tr>\n",
       "      <th>...</th>\n",
       "      <td>...</td>\n",
       "      <td>...</td>\n",
       "      <td>...</td>\n",
       "      <td>...</td>\n",
       "      <td>...</td>\n",
       "      <td>...</td>\n",
       "    </tr>\n",
       "    <tr>\n",
       "      <th>473</th>\n",
       "      <td>5655</td>\n",
       "      <td>2021-01-23</td>\n",
       "      <td>1.0</td>\n",
       "      <td>417.434820</td>\n",
       "      <td>2018-12-04</td>\n",
       "      <td>781</td>\n",
       "    </tr>\n",
       "    <tr>\n",
       "      <th>0</th>\n",
       "      <td>401</td>\n",
       "      <td>2021-01-23</td>\n",
       "      <td>1.0</td>\n",
       "      <td>541.487603</td>\n",
       "      <td>2018-12-04</td>\n",
       "      <td>781</td>\n",
       "    </tr>\n",
       "    <tr>\n",
       "      <th>683</th>\n",
       "      <td>12237</td>\n",
       "      <td>2021-01-27</td>\n",
       "      <td>1.0</td>\n",
       "      <td>226.294909</td>\n",
       "      <td>2018-12-04</td>\n",
       "      <td>785</td>\n",
       "    </tr>\n",
       "    <tr>\n",
       "      <th>446</th>\n",
       "      <td>5094</td>\n",
       "      <td>2021-01-29</td>\n",
       "      <td>1.0</td>\n",
       "      <td>50.358000</td>\n",
       "      <td>2018-12-04</td>\n",
       "      <td>787</td>\n",
       "    </tr>\n",
       "    <tr>\n",
       "      <th>408</th>\n",
       "      <td>4845</td>\n",
       "      <td>2021-02-01</td>\n",
       "      <td>1.0</td>\n",
       "      <td>230.790000</td>\n",
       "      <td>2018-12-04</td>\n",
       "      <td>790</td>\n",
       "    </tr>\n",
       "  </tbody>\n",
       "</table>\n",
       "<p>911 rows × 6 columns</p>\n",
       "</div>"
      ],
      "text/plain": [
       "     id_product order_date  product_quantity  product_price entry_date  \\\n",
       "879     1535922 2020-01-15               1.0     123.140496 2020-08-15   \n",
       "878     1535919 2020-01-17               1.0      23.966942 2020-08-15   \n",
       "877     1535914 2020-01-19               1.0    2795.000000 2020-08-15   \n",
       "876     1535912 2020-10-10               1.0    1051.089406 2020-08-15   \n",
       "875     1535912 2020-04-02               1.0    1177.272727 2020-08-15   \n",
       "..          ...        ...               ...            ...        ...   \n",
       "473        5655 2021-01-23               1.0     417.434820 2018-12-04   \n",
       "0           401 2021-01-23               1.0     541.487603 2018-12-04   \n",
       "683       12237 2021-01-27               1.0     226.294909 2018-12-04   \n",
       "446        5094 2021-01-29               1.0      50.358000 2018-12-04   \n",
       "408        4845 2021-02-01               1.0     230.790000 2018-12-04   \n",
       "\n",
       "     passing_time_to_firstsale  \n",
       "879                       -213  \n",
       "878                       -211  \n",
       "877                       -209  \n",
       "876                       -170  \n",
       "875                       -170  \n",
       "..                         ...  \n",
       "473                        781  \n",
       "0                          781  \n",
       "683                        785  \n",
       "446                        787  \n",
       "408                        790  \n",
       "\n",
       "[911 rows x 6 columns]"
      ]
     },
     "execution_count": 147,
     "metadata": {},
     "output_type": "execute_result"
    }
   ],
   "source": [
    "df.sort_values(by='passing_time_to_firstsale', ascending=True)"
   ]
  },
  {
   "cell_type": "markdown",
   "metadata": {},
   "source": [
    "**lets detect the time between last order date and today for each product**"
   ]
  },
  {
   "cell_type": "code",
   "execution_count": null,
   "metadata": {},
   "outputs": [],
   "source": []
  },
  {
   "cell_type": "code",
   "execution_count": null,
   "metadata": {},
   "outputs": [],
   "source": []
  },
  {
   "cell_type": "code",
   "execution_count": null,
   "metadata": {},
   "outputs": [],
   "source": []
  },
  {
   "cell_type": "code",
   "execution_count": null,
   "metadata": {},
   "outputs": [],
   "source": []
  },
  {
   "cell_type": "code",
   "execution_count": null,
   "metadata": {},
   "outputs": [],
   "source": []
  },
  {
   "cell_type": "code",
   "execution_count": null,
   "metadata": {},
   "outputs": [],
   "source": []
  },
  {
   "cell_type": "code",
   "execution_count": null,
   "metadata": {},
   "outputs": [],
   "source": []
  },
  {
   "cell_type": "markdown",
   "metadata": {},
   "source": [
    "# End of The Session"
   ]
  },
  {
   "cell_type": "code",
   "execution_count": null,
   "metadata": {},
   "outputs": [],
   "source": []
  }
 ],
 "metadata": {
  "kernelspec": {
   "display_name": "Python 3",
   "language": "python",
   "name": "python3"
  },
  "language_info": {
   "codemirror_mode": {
    "name": "ipython",
    "version": 3
   },
   "file_extension": ".py",
   "mimetype": "text/x-python",
   "name": "python",
   "nbconvert_exporter": "python",
   "pygments_lexer": "ipython3",
   "version": "3.9.1"
  }
 },
 "nbformat": 4,
 "nbformat_minor": 1
}
